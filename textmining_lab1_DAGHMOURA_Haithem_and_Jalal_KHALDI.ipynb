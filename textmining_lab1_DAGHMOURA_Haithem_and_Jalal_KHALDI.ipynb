{
  "cells": [
    {
      "cell_type": "markdown",
      "metadata": {
        "id": "MplOjLbutdjz"
      },
      "source": [
        "# TP : Sentiment analysis on IMDB movie reviews\n",
        "\n",
        "DAGHMOURA Haithem and Jalal KHALDI"
      ]
    },
    {
      "cell_type": "markdown",
      "metadata": {
        "id": "ybSSTcRBtdj2"
      },
      "source": [
        "## Objectives\n",
        "\n",
        "1. Implement a simple way to represent text data - Bag of words\n",
        "2. Implement a basic statistical learning model - Bayesian Naive\n",
        "3. Use these representations and this model for a sentiment analysis task.\n",
        "4. Experiment with various way to reduce the vocabulary size and look at the distribution obtained."
      ]
    },
    {
      "cell_type": "markdown",
      "metadata": {
        "id": "tf7PJnNytdj3"
      },
      "source": [
        "## Necessary dependancies\n",
        "\n",
        "We will need the following packages:\n",
        "- The Machine Learning API Scikit-learn : http://scikit-learn.org/stable/install.html\n",
        "- The Natural Language Toolkit : http://www.nltk.org/install.html\n",
        "\n",
        "Both are available with Anaconda: https://anaconda.org/anaconda/nltk and https://anaconda.org/anaconda/scikit-learn"
      ]
    },
    {
      "cell_type": "code",
      "execution_count": 17,
      "metadata": {
        "id": "KMhHlkqdtdj4"
      },
      "outputs": [],
      "source": [
        "import os.path as op\n",
        "import re\n",
        "import numpy as np\n",
        "import matplotlib.pyplot as plt"
      ]
    },
    {
      "cell_type": "markdown",
      "metadata": {
        "id": "rm_1S8j3tdj6"
      },
      "source": [
        "## Loading data\n",
        "\n",
        "We retrieve the textual data in the variable *texts*.\n",
        "\n",
        "The labels are retrieved in the variable $y$ - it contains *len(texts)* of them: $0$ indicates that the corresponding review is negative while $1$ indicates that it is positive."
      ]
    },
    {
      "cell_type": "code",
      "execution_count": 18,
      "metadata": {
        "id": "s4J7cn2ltdj7"
      },
      "outputs": [],
      "source": [
        "from glob import glob\n",
        "# We get the files from the path: ./aclImdb/train/neg for negative reviews, and ./aclImdb/train/pos for positive reviews\n",
        "train_filenames_neg = sorted(glob(op.join('.','aclImdb','train', 'neg', '*.txt')))\n",
        "train_filenames_pos = sorted(glob(op.join('.','aclImdb','train', 'pos', '*.txt')))\n",
        "\n",
        "# Each files contains a review that consists in one line of text: we put this string in two lists, that we concatenate\n",
        "train_texts_neg = [open(f, encoding=\"utf8\").read() for f in train_filenames_neg]\n",
        "train_texts_pos = [open(f, encoding=\"utf8\").read() for f in train_filenames_pos]\n",
        "train_texts = train_texts_neg + train_texts_pos\n",
        "\n",
        "# The first half of the elements of the list are string of negative reviews, and the second half positive ones\n",
        "# We create the labels, as an array of [1,len(texts)], filled with 1, and change the first half to 0\n",
        "train_labels = np.ones(len(train_texts), dtype=int)\n",
        "train_labels[:len(train_texts_neg)] = 0."
      ]
    },
    {
      "cell_type": "code",
      "source": [
        "print(f\"This data set contains {len(train_labels)} document, {len(train_texts_neg)} of class 0 and {len(train_texts_pos)} of class 1\")"
      ],
      "metadata": {
        "colab": {
          "base_uri": "https://localhost:8080/"
        },
        "id": "rARO1Uj4Bb9Z",
        "outputId": "e33c05a3-6b77-47cf-d3b6-2d22ffc2b5d1"
      },
      "execution_count": 19,
      "outputs": [
        {
          "output_type": "stream",
          "name": "stdout",
          "text": [
            "This data set contains 25000 document, 12500 of class 0 and 12500 of class 1\n"
          ]
        }
      ]
    },
    {
      "cell_type": "code",
      "source": [
        "lenths = [len(train_texts[i]) for i in range (25000)]\n",
        "print(f\"each sample of this data contains on average {round(np.mean(lenths))} with std {np.round(np.sqrt(np.var(lenths)))} the max length is {np.max(lenths)} and min is : {np.min(lenths)}\")"
      ],
      "metadata": {
        "colab": {
          "base_uri": "https://localhost:8080/"
        },
        "id": "sCYVDB6yCEMi",
        "outputId": "8cda499b-5adb-495c-ffd3-4d1c4dcc4b10"
      },
      "execution_count": 20,
      "outputs": [
        {
          "output_type": "stream",
          "name": "stdout",
          "text": [
            "each sample of this data contains on average 1325 with std 1003.0 the max length is 13704 and min is : 52\n"
          ]
        }
      ]
    },
    {
      "cell_type": "code",
      "execution_count": 21,
      "metadata": {
        "colab": {
          "base_uri": "https://localhost:8080/",
          "height": 70
        },
        "id": "y7uouRbQtdj8",
        "outputId": "cf90b8b3-a434-4605-e562-caa754fd7189"
      },
      "outputs": [
        {
          "output_type": "execute_result",
          "data": {
            "text/plain": [
              "\"Story of a man who has unnatural feelings for a pig. Starts out with a opening scene that is a terrific example of absurd comedy. A formal orchestra audience is turned into an insane, violent mob by the crazy chantings of it's singers. Unfortunately it stays absurd the WHOLE time with no general narrative eventually making it just too off putting. Even those from the era should be turned off. The cryptic dialogue would make Shakespeare seem easy to a third grader. On a technical level it's better than you might think with some good cinematography by future great Vilmos Zsigmond. Future stars Sally Kirkland and Frederic Forrest can be seen briefly.\""
            ],
            "application/vnd.google.colaboratory.intrinsic+json": {
              "type": "string"
            }
          },
          "metadata": {},
          "execution_count": 21
        }
      ],
      "source": [
        "open(\"./aclImdb/train/neg/0_3.txt\", encoding=\"utf8\").read()"
      ]
    },
    {
      "cell_type": "markdown",
      "metadata": {
        "id": "hZkywpBctdj8"
      },
      "source": [
        "**In this lab, the impact of our choice of representations upon our results will also depend on the quantity of data we use:** try to see how changing the parameter ```k``` affects our results !"
      ]
    },
    {
      "cell_type": "markdown",
      "source": [
        "The number k affects the number of instances on our data. The lower is k the more data we have and thus the more vocabulary we can get. This will increase our accuracy later on since we will be able to get more information from the data (more words and more instances of each class)"
      ],
      "metadata": {
        "id": "tQnWeM3W7-gn"
      }
    },
    {
      "cell_type": "code",
      "execution_count": 22,
      "metadata": {
        "colab": {
          "base_uri": "https://localhost:8080/"
        },
        "id": "1LT2JbmBtdj9",
        "outputId": "b27e637c-ad69-429d-a4ce-5bb042b047af"
      },
      "outputs": [
        {
          "output_type": "stream",
          "name": "stdout",
          "text": [
            "Number of documents: 2500\n"
          ]
        }
      ],
      "source": [
        "# This number of documents may be high for most computers: we can select a fraction of them (here, one in k)\n",
        "# Use an even number to keep the same number of positive and negative reviews\n",
        "k = 10\n",
        "train_texts_reduced = train_texts[0::k]\n",
        "train_labels_reduced = train_labels[0::k]\n",
        "\n",
        "print('Number of documents:', len(train_texts_reduced))"
      ]
    },
    {
      "cell_type": "markdown",
      "metadata": {
        "id": "iZpddbdctdj9"
      },
      "source": [
        "We can use a function from sklearn, ```train_test_split```, to separate data into training and validation sets:"
      ]
    },
    {
      "cell_type": "code",
      "execution_count": 23,
      "metadata": {
        "id": "DpWhIddBtdj-"
      },
      "outputs": [],
      "source": [
        "from sklearn.model_selection import train_test_split"
      ]
    },
    {
      "cell_type": "code",
      "execution_count": 24,
      "metadata": {
        "id": "1VWwafmDtdj-"
      },
      "outputs": [],
      "source": [
        "train_texts_splt, val_texts, train_labels_splt, val_labels = train_test_split(train_texts_reduced, train_labels_reduced, test_size=.2,random_state=0)"
      ]
    },
    {
      "cell_type": "markdown",
      "metadata": {
        "id": "Dbicd55gtdj_"
      },
      "source": [
        "## I - Adapted representation of documents\n",
        "\n",
        "Our statistical model, like most models applied to textual data, uses counts of word occurrences in a document. Thus, a very convenient way to represent a document is to use a Bag-of-Words (BoW) vector, containing the counts of each word (regardless of their order of occurrence) in the document.\n",
        "\n",
        "If we consider the set of all the words appearing in our $T$ training documents, which we note $V$ (Vocabulary), we can create **an index**, which is a bijection associating to each $w$ word an integer, which will be its position in $V$.\n",
        "\n",
        "Thus, for a document extracted from a set of documents containing $|V|$ different words, a BoW representation will be a vector of size $|V|$, whose value at the index of a word $w$ will be its number of occurrences in the document.\n",
        "\n",
        "We can use the **CountVectorizer** class from scikit-learn to obtain these representations:"
      ]
    },
    {
      "cell_type": "code",
      "execution_count": 25,
      "metadata": {
        "id": "PshRy8cmtdj_"
      },
      "outputs": [],
      "source": [
        "from sklearn.feature_extraction.text import CountVectorizer\n",
        "\n",
        "from sklearn.model_selection import cross_val_score\n",
        "from sklearn.base import BaseEstimator, ClassifierMixin"
      ]
    },
    {
      "cell_type": "code",
      "execution_count": 26,
      "metadata": {
        "id": "iQWieYUAtdkA",
        "colab": {
          "base_uri": "https://localhost:8080/"
        },
        "outputId": "d3013a36-e1fe-4a07-8902-93dd6d8eec26"
      },
      "outputs": [
        {
          "output_type": "stream",
          "name": "stdout",
          "text": [
            "['avenue' 'boulevard' 'city' 'down' 'ran' 'the' 'walk' 'walked']\n"
          ]
        },
        {
          "output_type": "execute_result",
          "data": {
            "text/plain": [
              "array([[0, 1, 0, 2, 0, 1, 0, 1],\n",
              "       [1, 0, 0, 1, 0, 1, 0, 1],\n",
              "       [0, 1, 0, 1, 1, 1, 0, 0],\n",
              "       [0, 0, 1, 1, 0, 1, 1, 0],\n",
              "       [1, 0, 0, 1, 0, 2, 1, 0]])"
            ]
          },
          "metadata": {},
          "execution_count": 26
        }
      ],
      "source": [
        "corpus = ['I walked down down the boulevard',\n",
        "          'I walked down the avenue',\n",
        "          'I ran down the boulevard',\n",
        "          'I walk down the city',\n",
        "          'I walk down the the avenue']\n",
        "vectorizer = CountVectorizer()\n",
        "\n",
        "Bow = vectorizer.fit_transform(corpus)\n",
        "\n",
        "print(vectorizer.get_feature_names_out())\n",
        "Bow.toarray()"
      ]
    },
    {
      "cell_type": "markdown",
      "metadata": {
        "id": "L8XuCABdtdkA"
      },
      "source": [
        "We display the list containing the words ordered according to their index (Note that words of 2 characters or less are not counted)."
      ]
    },
    {
      "cell_type": "markdown",
      "metadata": {
        "id": "szwStaF1tdkB"
      },
      "source": [
        "### Preprocessing the text: get the BoW representations ##\n",
        "\n",
        "The first thing to do is to turn the review from a string into a list of words. The simplest method is to divide the string according to spaces with the command:\n",
        "``text.split()``\n",
        "\n",
        "But we must also be careful to remove special characters that may not have been cleaned up (such as HTML tags if the data was obtained from web pages). Since we're going to count words, we'll have to build a list of tokens appearing in our data. In our case, we'd like to reduce this list and make it uniform (ignore capitalization, punctuation, and the shortest words).\n",
        "We will therefore use a function adapted to our needs - but this is a job that we generally don't need to do ourselves, since there are many tools already adapted to most situations.\n",
        "For text cleansing, there are many scripts, based on different tools (regular expressions, for example) that allow you to prepare data. The division of the text into words and the management of punctuation is handled in a step called *tokenization*; if needed, a python package like NLTK contains many different *tokenizers*."
      ]
    },
    {
      "cell_type": "code",
      "source": [
        "import nltk\n",
        "nltk.download('punkt')"
      ],
      "metadata": {
        "colab": {
          "base_uri": "https://localhost:8080/"
        },
        "id": "VRy26B2Qlc8t",
        "outputId": "a5eb9fa3-7293-4607-c16d-1a552a690fb1"
      },
      "execution_count": 27,
      "outputs": [
        {
          "output_type": "stream",
          "name": "stderr",
          "text": [
            "[nltk_data] Downloading package punkt to /root/nltk_data...\n",
            "[nltk_data]   Unzipping tokenizers/punkt.zip.\n"
          ]
        },
        {
          "output_type": "execute_result",
          "data": {
            "text/plain": [
              "True"
            ]
          },
          "metadata": {},
          "execution_count": 27
        }
      ]
    },
    {
      "cell_type": "code",
      "execution_count": 28,
      "metadata": {
        "id": "oXAiKhP3tdkB",
        "colab": {
          "base_uri": "https://localhost:8080/"
        },
        "outputId": "6b47ca99-0358-4bdd-ccd2-c3d8c95e7b24"
      },
      "outputs": [
        {
          "output_type": "stream",
          "name": "stdout",
          "text": [
            "['walked', 'down', 'down', 'the', 'boulevard', 'walked', 'down', 'the', 'avenue', 'ran', 'down', 'the', 'boulevard', 'walk', 'down', 'the', 'city', 'walk', 'down', 'the', 'the', 'avenue']\n",
            "['I', 'walked', 'down', 'down', 'the', 'boulevard', '.', 'I', 'walked', 'down', 'the', 'avenue', '.', 'I', 'ran', 'down', 'the', 'boulevard', '.', 'I', 'walk', 'down', 'the', 'city', '.', 'I', 'walk', 'down', 'the', 'the', 'avenue', '.']\n"
          ]
        }
      ],
      "source": [
        "# We might want to clean the file with various strategies:\n",
        "def clean_and_tokenize(text):\n",
        "    \"\"\"\n",
        "    Cleaning a document with:\n",
        "        - Lowercase\n",
        "        - Removing numbers with regular expressions\n",
        "        - Removing punctuation with regular expressions\n",
        "        - Removing other artifacts\n",
        "    And separate the document into words by simply splitting at spaces\n",
        "    Params:\n",
        "        text (string): a sentence or a document\n",
        "    Returns:\n",
        "        tokens (list of strings): the list of tokens (word units) forming the document\n",
        "    \"\"\"\n",
        "    # Lowercase\n",
        "    text = text.lower()\n",
        "    # Remove numbers\n",
        "    text = re.sub(r\"[0-9]+\", \"\", text)\n",
        "    # Remove punctuation\n",
        "    REMOVE_PUNCT = re.compile(\"[.;:!\\'?,\\\"()\\[\\]]\")\n",
        "    text = REMOVE_PUNCT.sub(\"\", text)\n",
        "    # Remove small words (1 and 2 characters)\n",
        "    text = re.sub(r\"\\b\\w{1,2}\\b\", \"\", text)\n",
        "    # Remove HTML artifacts specific to the corpus we're going to work with\n",
        "    REPLACE_HTML = re.compile(\"(<br\\s*/><br\\s*/>)|(\\-)|(\\/)\")\n",
        "    text = REPLACE_HTML.sub(\" \", text)\n",
        "\n",
        "    tokens = text.split()\n",
        "    return tokens\n",
        "\n",
        "# Or we might want to use an already-implemented tool. The NLTK package has a lot of very useful text processing tools, among them various tokenizers\n",
        "# Careful, NLTK was the first well-documented NLP package, but it might be outdated for some uses. Check the documentation !\n",
        "from nltk.tokenize import word_tokenize\n",
        "\n",
        "corpus_raw = \"I walked down down the boulevard. I walked down the avenue. I ran down the boulevard. I walk down the city. I walk down the the avenue.\"\n",
        "print(clean_and_tokenize(corpus_raw))\n",
        "print(word_tokenize(corpus_raw))"
      ]
    },
    {
      "cell_type": "markdown",
      "metadata": {
        "id": "fYqVIkrxtdkC"
      },
      "source": [
        "The next function takes as input a list of documents (each in the form of a string) and returns, as in the example using ``CountVectorizer``:\n",
        "- A vocabulary that associates, to each word encountered, an index\n",
        "- A matrix, with rows representing documents and columns representing words indexed by the vocabulary. In position $(i,j)$, one should have the number of occurrences of the word $j$ in the document $i$.\n",
        "\n",
        "The vocabulary, which was in the form of a *list* in the previous example, can be returned in the form of a *dictionary* whose keys are the words and values are the indices. Since the vocabulary lists the words in the corpus without worrying about their number of occurrences, it can be built up using a set (in python).\n",
        "\n",
        "<div class='alert alert-block alert-info'>\n",
        "            Code:</div>"
      ]
    },
    {
      "cell_type": "code",
      "execution_count": 29,
      "metadata": {
        "id": "4xnXJ8DmtdkC"
      },
      "outputs": [],
      "source": [
        "def count_words(texts):\n",
        "    \"\"\"Vectorize text : return count of each word in the text snippets\n",
        "\n",
        "    Parameters\n",
        "    ----------\n",
        "    texts : list of str\n",
        "        The texts\n",
        "    Returns\n",
        "    -------\n",
        "    vocabulary : dict\n",
        "        A dictionary that points to an index in counts for each word.\n",
        "    counts : ndarray, shape (n_samples, n_features)\n",
        "        The counts of each word in each text.\n",
        "    \"\"\"\n",
        "    vocabulary_set = set()\n",
        "    texts_tokenized = []\n",
        "    for text in texts :\n",
        "      text_tokenized =  clean_and_tokenize(text)\n",
        "      texts_tokenized.append(text_tokenized)\n",
        "      vocabulary_set.update(text_tokenized)\n",
        "\n",
        "\n",
        "    counts_shape = (len(texts),len(vocabulary_set))\n",
        "    counts = np.zeros(counts_shape)\n",
        "\n",
        "    vocabulary= {element: index for index, element in enumerate(vocabulary_set)}\n",
        "\n",
        "    for text_tokens_index in range(len(texts_tokenized)) :\n",
        "      text_tokens = texts_tokenized[text_tokens_index]\n",
        "\n",
        "      for index in range(len(text_tokens)) :\n",
        "          cur_word = text_tokens[index]\n",
        "          counts[ text_tokens_index,vocabulary[cur_word]] +=1\n",
        "\n",
        "\n",
        "    return vocabulary, counts"
      ]
    },
    {
      "cell_type": "code",
      "execution_count": 30,
      "metadata": {
        "id": "Qwz1R3TOtdkG",
        "colab": {
          "base_uri": "https://localhost:8080/"
        },
        "outputId": "21a5eaf4-105c-4727-a56f-f0ad605473e2"
      },
      "outputs": [
        {
          "output_type": "stream",
          "name": "stdout",
          "text": [
            "{'avenue': 0, 'the': 1, 'boulevard': 2, 'walked': 3, 'ran': 4, 'walk': 5, 'down': 6, 'city': 7}\n",
            "[[0. 1. 1. 1. 0. 0. 2. 0.]\n",
            " [1. 1. 0. 1. 0. 0. 1. 0.]\n",
            " [0. 1. 1. 0. 1. 0. 1. 0.]\n",
            " [0. 1. 0. 0. 0. 1. 1. 1.]\n",
            " [1. 2. 0. 0. 0. 1. 1. 0.]]\n"
          ]
        }
      ],
      "source": [
        "Voc, X = count_words(corpus)\n",
        "print(Voc)\n",
        "print(X)"
      ]
    },
    {
      "cell_type": "markdown",
      "metadata": {
        "id": "TUDh-2I1tdkH"
      },
      "source": [
        "Now, if we want to represent text that was not available when building the vocabulary, we will not be able to represent **new words** ! Let's take a look at how CountVectorizer does it:"
      ]
    },
    {
      "cell_type": "code",
      "execution_count": 31,
      "metadata": {
        "id": "VXRWXS1rtdkH",
        "colab": {
          "base_uri": "https://localhost:8080/"
        },
        "outputId": "abb1a9d1-00ed-4372-a591-1e2e5d6882a0"
      },
      "outputs": [
        {
          "output_type": "execute_result",
          "data": {
            "text/plain": [
              "array([[0, 0, 0, 0, 0, 1, 0, 1]])"
            ]
          },
          "metadata": {},
          "execution_count": 31
        }
      ],
      "source": [
        "val_corpus = ['I walked up the street']\n",
        "Bow = vectorizer.transform(val_corpus)\n",
        "Bow.toarray()"
      ]
    },
    {
      "cell_type": "markdown",
      "metadata": {
        "id": "0tiH6AgotdkH"
      },
      "source": [
        "Modify the ```count_words``` function to be able to deal with new documents when given a previously obtained vocabulary !\n",
        "\n",
        "<div class='alert alert-block alert-info'>\n",
        "            Code:</div>"
      ]
    },
    {
      "cell_type": "code",
      "execution_count": 32,
      "metadata": {
        "id": "pDJ0dSdHtdkH"
      },
      "outputs": [],
      "source": [
        "def count_words(texts, voc = None):\n",
        "    \"\"\"Vectorize text : return count of each word in the text snippets\n",
        "\n",
        "    Parameters\n",
        "    ----------\n",
        "    texts : list of str\n",
        "        The texts\n",
        "    voc : dict\n",
        "        A dictionary that points to an index in counts for each word - output by a previous use of the function\n",
        "        If not None, use this one\n",
        "    Returns\n",
        "    -------\n",
        "    vocabulary : dict\n",
        "        A dictionary that points to an index in counts for each word.\n",
        "    counts : ndarray, shape (n_samples, n_features)\n",
        "        The counts of each word in each text.\n",
        "    \"\"\"\n",
        "    if voc == None:\n",
        "      vocabulary_set = set()\n",
        "      texts_tokenized = []\n",
        "      for text in texts :\n",
        "        text_tokenized =  clean_and_tokenize(text)\n",
        "        texts_tokenized.append(text_tokenized)\n",
        "        vocabulary_set.update(text_tokenized)\n",
        "\n",
        "\n",
        "      counts_shape = (len(texts),len(vocabulary_set))\n",
        "      counts = np.zeros(counts_shape)\n",
        "\n",
        "      vocabulary= {element: index for index, element in enumerate(vocabulary_set)}\n",
        "\n",
        "      for text_tokens_index in range(len(texts_tokenized)) :\n",
        "        text_tokens = texts_tokenized[text_tokens_index]\n",
        "\n",
        "        for index in range(len(text_tokens)) :\n",
        "            cur_word = text_tokens[index]\n",
        "            counts[ text_tokens_index,vocabulary[cur_word]] +=1\n",
        "    else:\n",
        "      texts_tokenized = []\n",
        "      for text in texts :\n",
        "        text_tokenized =  clean_and_tokenize(text)\n",
        "        texts_tokenized.append(text_tokenized)\n",
        "      counts_shape = (len(texts),len(voc))\n",
        "      counts = np.zeros(counts_shape)\n",
        "      vocabulary= voc\n",
        "\n",
        "      for text_tokens_index in range(len(texts_tokenized)) :\n",
        "        text_tokens = texts_tokenized[text_tokens_index]\n",
        "\n",
        "        for index in range(len(text_tokens)) :\n",
        "            cur_word = text_tokens[index]\n",
        "            if cur_word in vocabulary:\n",
        "              counts[ text_tokens_index,vocabulary[cur_word]] +=1\n",
        "\n",
        "\n",
        "    return vocabulary, counts"
      ]
    },
    {
      "cell_type": "markdown",
      "metadata": {
        "id": "i69zwuY8tdkH"
      },
      "source": [
        "<div class='alert alert-block alert-warning'>\n",
        "            Questions:</div>                       \n",
        "\n",
        "Careful: check the size that the representations are going to have (given the way they are build). What does this imply for the memory use ? What ```CountVectorizer``` argument allows to avoid the issue ?\n",
        "\n",
        "<div class='alert alert-block alert-info'>\n",
        "            Code:</div>"
      ]
    },
    {
      "cell_type": "markdown",
      "source": [
        "**Answer**\n",
        "\n",
        "we noitice that the size of document vector representation is equal to 29803.\n",
        "The arguement that can help mitigate memory issues when using CountVectorizer is max_df (maximum document frequency). This parameter specifies a threshold such that words that occur in more than a certain percentage of documents will be ignored. Ignoring very common words can reduce memory usage and can sometimes improve the quality of the features by focusing on more informative terms. an other possible argument is the max_features argument that specifies the maximum number of words that we will consider. Last but not least, the representation of the matrix itself is compressed by using CountVectorizer. In fact, since the count matrix contains a lot of zeros it is considered as a parse matrix and thus a more dedicated structure allows for optimizing memory use.\n"
      ],
      "metadata": {
        "id": "I75QeyZ-bVh1"
      }
    },
    {
      "cell_type": "code",
      "execution_count": 33,
      "metadata": {
        "id": "03m0penTtdkH",
        "colab": {
          "base_uri": "https://localhost:8080/"
        },
        "outputId": "7e9c98be-7c9e-4998-f06a-65ecd6e864cb"
      },
      "outputs": [
        {
          "output_type": "stream",
          "name": "stdout",
          "text": [
            "(2000, 29583)\n"
          ]
        }
      ],
      "source": [
        "voc, train_bow = count_words(train_texts_splt)\n",
        "print(train_bow.shape)"
      ]
    },
    {
      "cell_type": "code",
      "execution_count": 34,
      "metadata": {
        "id": "tbtXc-zqtdkI",
        "colab": {
          "base_uri": "https://localhost:8080/"
        },
        "outputId": "a369ca57-fa69-4d78-a178-32ca0ad93b6a"
      },
      "outputs": [
        {
          "output_type": "stream",
          "name": "stdout",
          "text": [
            "(500, 29583)\n"
          ]
        }
      ],
      "source": [
        "_, val_bow = count_words(val_texts, voc)\n",
        "print(val_bow.shape)"
      ]
    },
    {
      "cell_type": "code",
      "execution_count": 35,
      "metadata": {
        "id": "py2_t0ZetdkI",
        "colab": {
          "base_uri": "https://localhost:8080/"
        },
        "outputId": "85019327-a06c-4f37-98d2-a4e878f53dc5"
      },
      "outputs": [
        {
          "output_type": "stream",
          "name": "stdout",
          "text": [
            "(2000, 25499)\n"
          ]
        }
      ],
      "source": [
        "# Do the same with a CountVectorizer: create and fit the vectorizer to the training data\n",
        "vectorizer = CountVectorizer()\n",
        "\n",
        "train_bow = vectorizer.fit_transform(train_texts_splt)\n",
        "\n",
        "print(train_bow.shape)\n"
      ]
    },
    {
      "cell_type": "code",
      "execution_count": 36,
      "metadata": {
        "id": "ML6eIOSxtdkI",
        "colab": {
          "base_uri": "https://localhost:8080/"
        },
        "outputId": "0bf9876e-f049-47c8-bed0-0b86d64ae37c"
      },
      "outputs": [
        {
          "output_type": "stream",
          "name": "stdout",
          "text": [
            "(500, 25499)\n"
          ]
        }
      ],
      "source": [
        "# Transform the validation data\n",
        "val_bow = vectorizer.transform(val_texts)\n",
        "print(val_bow.shape)"
      ]
    },
    {
      "cell_type": "markdown",
      "metadata": {
        "id": "Il2FJuxotdkI"
      },
      "source": [
        "## II- Naive Bayesian\n",
        "\n",
        "### Main idea\n",
        "\n",
        "A movie review is in fact a list of words $s = (w_1, ..., w_N)$, and we try to find the associated class $c$ - which in our case may be $c = 0$ or $c = 1$. The objective is thus to find for each review $s$ the class $\\hat{c}$ maximizing the conditional probability **$P(c|s)$** :\n",
        "\n",
        "$$\\hat{c} = \\underset{c}{\\mathrm{argmax}}\\, P(c|s) = \\underset{c}{\\mathrm{argmax}}\\,\\frac{P(s|c)P(c)}{P(s)}$$\n",
        "\n",
        "**Hypothesis : P(s) is constant for each class** :\n",
        "\n",
        "$$\\hat{c} = \\underset{c}{\\mathrm{argmax}}\\,\\frac{P(s|c)P(c)}{P(s)} = \\underset{c}{\\mathrm{argmax}}\\,P(s|c)P(c)$$\n",
        "\n",
        "**Naive hypothesis : the variables (words) of a review are independant between themselves** :\n",
        "\n",
        "$$P(s|c) = P(w_1, ..., w_N|c)=\\Pi_{i=1..N}P(w_i|c)$$"
      ]
    },
    {
      "cell_type": "markdown",
      "metadata": {
        "id": "Cc3pvwUrtdkJ"
      },
      "source": [
        "### General view\n",
        "\n",
        "#### Training: Estimating the probabilities\n",
        "\n",
        "For each word $w$ in the vocabulary $V$, $P(w|c)$ is the number of occurrences of $w$ in all reviews of class $c$, divided by the total number of occurrences in $c$. If we note $T(w,c)$ this number of occurrences, we get:\n",
        "\n",
        "$$P(w|c) = \\text{Frequency of }w\\text{ in }c = \\frac{T(w,c)}{\\sum_{w' \\in V} T(w',c)}$$\n",
        "\n",
        "#### Test: Calculating scores\n",
        "\n",
        "To facilitate the calculations and to avoid *underflow* and approximation errors, we use the log-sum trick, and we pass the equation into log-probabilities :\n",
        "\n",
        "$$ \\hat{c} = \\underset{c}{\\mathrm{argmax}} P(c|s) = \\underset{c}{\\mathrm{argmax}} \\left[ \\mathrm{log}(P(c)) + \\sum_{i=1..N}log(P(w_i|c)) \\right] $$\n",
        "\n",
        "#### Laplace smoothing\n",
        "\n",
        "A word that does not appear in a document has a probability of zero: this will cause issues with the logarithm. So we keep a very small part of the probability mass that we redistribute with the *Laplace smoothing*:\n",
        "\n",
        "$$P(w|c) = \\frac{T(w,c) + 1}{\\sum_{w' \\in V} (T(w',c) + 1)}$$\n",
        "\n",
        "There are other smoothing methods, generally suitable for other, more complex applications."
      ]
    },
    {
      "cell_type": "markdown",
      "metadata": {
        "id": "s4ZVmnNItdkJ"
      },
      "source": [
        "### Detail: training\n",
        "\n",
        "The idea is to extract the number of occurrences $T(w,c)$ for each word $w$ and each class $c$, which will make it possible to calculate the matrix of conditional probabilities $\\pmb{P}$ such that: $$\\pmb{P}_{w,c} = P(w|c)$$\n",
        "\n",
        "Note that the number of occurrences $T(w,c)$ can be easily obtained from the BoW representations of all documents !\n",
        "\n",
        "#### Procedure:\n",
        "\n",
        "- Extract the vocabulary $V$ and counts $T(w,c)$ for each of the words $w$ and classes $c$, from a set of documents.\n",
        "- Calculate the a priori probabilities of the classes $P(c) = \\frac{|\\text{documents in class }c|}{|\\text{all documents}|}$\n",
        "- Calculate the conditional **smoothed** probabilities $P(w|c) = \\frac{T(w,c) + 1}{\\sum_{w' \\in V} T(w',c) + 1}$.\n",
        "\n",
        "### Detail: test\n",
        "\n",
        "We now know the conditional probabilities given by the $\\pmb{P}$ matrix.\n",
        "Now we must obtain $P(s|c)$ for the current document. This quantity is obtained using a simple calculation involving the BoW representation of the document and $\\pmb{P}$.\n",
        "\n",
        "#### Procedure:\n",
        "\n",
        "- For each of the classes $c$,\n",
        "    - $Score(c) = \\log P(c)$\n",
        "    - For each word $w$ in the document to be tested:\n",
        "        - $Score(c) += \\log P(w|c)$\n",
        "- Return $argmax_{c \\in C} Score(c)$"
      ]
    },
    {
      "cell_type": "markdown",
      "metadata": {
        "id": "90eIbalStdkK"
      },
      "source": [
        "We will therefore be able to use the reviews at our disposal to **estimate the probabilities $P(w|c)$ for each word $w$ given the two classes $c$**. These reviews will allow us to learn how to evaluate the \"compatibility\" between words and classes.\n",
        "```python\n",
        "def fit(self, X, y)\n",
        "```\n",
        "**Training**: will learn a statistical model based on the representations $X$ corresponding to the labels $y$.\n",
        "Here, $X$ contains representations obtained as the output of ```count_words```. You can complete the function using the procedure detailed above.\n",
        "\n",
        "Note: the smoothing is not necessarily done with a $1$ - it can be done with a positive value $\\alpha$, which we can implement as an argument of the class \"NB\".\n",
        "\n",
        "```python\n",
        "def predict(self, X)\n",
        "```\n",
        "**Testing**: will return the labels predicted by the model for other representations $X$.\n",
        "\n",
        "<div class='alert alert-block alert-info'>\n",
        "            Code:</div>"
      ]
    },
    {
      "cell_type": "code",
      "source": [
        "class NB(BaseEstimator, ClassifierMixin):\n",
        "    # Les arguments de classe permettent l'héritage de classes de sklearn\n",
        "    def __init__(self, alpha=1.0):\n",
        "        # alpha is the smoothing parameter: it corresponds to line 10 of the training algorithm\n",
        "        # By default, we use alpha = 1\n",
        "        self.alpha = alpha\n",
        "\n",
        "    def counts_words_per_class(self, X: np.ndarray, y: np.ndarray) -> np.ndarray:\n",
        "        \"\"\"\n",
        "        :param X: X contains representations obtained as the output of count_words\n",
        "        :param y: array that represents labels of documents\n",
        "        :return: t such that T(w,c) (number of occurences of w for a documents labeled c)\n",
        "        \"\"\"\n",
        "        n, d = X.shape\n",
        "        classes = np.unique(y)\n",
        "        t = np.zeros((d,classes.shape[0]))\n",
        "        for c in range(classes.shape[0]) :\n",
        "            for i_w in range(d) :\n",
        "                t[i_w,c] = np.sum(X[y==c, i_w], axis =0)\n",
        "        return t\n",
        "\n",
        "    def conditional_dist(self, t: np.ndarray) -> np.ndarray:\n",
        "        d, num_classes = t.shape\n",
        "        distr_words_knc: np.ndarray = np.zeros((d,num_classes))\n",
        "        for c in range(num_classes) :\n",
        "            for i_w in range(d) :\n",
        "                num_words_inc_smoothed = np.sum(t[:,c] + self.alpha)\n",
        "                distr_words_knc[i_w, c] = (t[i_w,c] + self.alpha) / num_words_inc_smoothed\n",
        "        return distr_words_knc\n",
        "\n",
        "    def fit(self, X, y):\n",
        "        n, d = X.shape\n",
        "        t: np.ndarray = self.counts_words_per_class(X, y)\n",
        "        classes = list(np.unique(y))\n",
        "        self.distr_words_knc: np.ndarray = self.conditional_dist(t)\n",
        "        self.p = np.array([X[y == c, :].shape[0] / n for c in classes])\n",
        "        return self\n",
        "\n",
        "\n",
        "\n",
        "    def predict(self, X):\n",
        "        d, num_classes = self.distr_words_knc.shape\n",
        "        n_rows = X.shape[0]\n",
        "        def predict_rowi(Xi: np.ndarray) -> np.ndarray :\n",
        "            scores = np.zeros(num_classes)\n",
        "            for c in range(num_classes) :\n",
        "                scores[c] += np.log(self.p[c])\n",
        "                for i_w in range(d):\n",
        "\n",
        "                    if Xi[i_w] > 0 :\n",
        "                        scores[c] += Xi[i_w] * np.log(self.distr_words_knc[i_w,c])\n",
        "            return np.argmax(scores)\n",
        "        return np.array([predict_rowi(X[row_i,:]) for row_i in range(n_rows)])\n",
        "\n",
        "    def score(self, X, y):\n",
        "        return np.mean(self.predict(X) == y)"
      ],
      "metadata": {
        "id": "sF14LeeJ9naK"
      },
      "execution_count": 37,
      "outputs": []
    },
    {
      "cell_type": "markdown",
      "source": [
        "Here is an example of use for this classe and the results it give"
      ],
      "metadata": {
        "id": "F68ee4AO8Uut"
      }
    },
    {
      "cell_type": "code",
      "source": [
        "voc, train_bow = count_words(train_texts_splt)\n",
        "_, val_bow = count_words(val_texts, voc)\n",
        "\n",
        "classifier = NB()\n",
        "classifier.fit(train_bow,train_labels_splt)\n",
        "classifier.score (val_bow,val_labels)"
      ],
      "metadata": {
        "colab": {
          "base_uri": "https://localhost:8080/"
        },
        "id": "zXH4YJoAEexm",
        "outputId": "27d646b8-87b2-4571-c2db-ba20fe6e8171"
      },
      "execution_count": 38,
      "outputs": [
        {
          "output_type": "execute_result",
          "data": {
            "text/plain": [
              "0.808"
            ]
          },
          "metadata": {},
          "execution_count": 38
        }
      ]
    },
    {
      "cell_type": "markdown",
      "metadata": {
        "id": "KC2LSTyDtdkL"
      },
      "source": [
        "## III - Experimentation\n",
        "\n",
        "Experiment on this model with your own representations. **Visualize** the results with the following tools, and **compare with the representations of ```CountVectorizer```/ naïve Bayes model of scikit-learn ```MultinomialNB```:**\n",
        "\n",
        "<div class='alert alert-block alert-info'>\n",
        "            Code:</div>"
      ]
    },
    {
      "cell_type": "code",
      "execution_count": 39,
      "metadata": {
        "id": "it3rR-E9tdkM"
      },
      "outputs": [],
      "source": [
        "from sklearn.metrics import confusion_matrix, ConfusionMatrixDisplay, classification_report"
      ]
    },
    {
      "cell_type": "code",
      "source": [
        "from sklearn.naive_bayes import MultinomialNB"
      ],
      "metadata": {
        "id": "nF4_wG3k9yiC"
      },
      "execution_count": 40,
      "outputs": []
    },
    {
      "cell_type": "code",
      "execution_count": 41,
      "metadata": {
        "id": "NvA-fp6OtdkM",
        "colab": {
          "base_uri": "https://localhost:8080/",
          "height": 640
        },
        "outputId": "51dca958-37aa-4f65-e2f4-a628f298f260"
      },
      "outputs": [
        {
          "output_type": "stream",
          "name": "stdout",
          "text": [
            "Score on validation set: 0.808\n",
            "Classification report: \n",
            "               precision    recall  f1-score   support\n",
            "\n",
            "           0       0.78      0.86      0.82       250\n",
            "           1       0.84      0.76      0.80       250\n",
            "\n",
            "    accuracy                           0.81       500\n",
            "   macro avg       0.81      0.81      0.81       500\n",
            "weighted avg       0.81      0.81      0.81       500\n",
            "\n"
          ]
        },
        {
          "output_type": "display_data",
          "data": {
            "text/plain": [
              "<Figure size 640x480 with 2 Axes>"
            ],
            "image/png": "[encoded data removed]"
          },
          "metadata": {}
        }
      ],
      "source": [
        "# compute the BOW and the vocabulary on the training set and used it to vectorize the valid set\n",
        "voc, train_bow = count_words(train_texts_splt)\n",
        "_, val_bow = count_words(val_texts, voc)\n",
        "\n",
        "# Create the model\n",
        "nb = NB()\n",
        "\n",
        "# Fit the model\n",
        "nb.fit(train_bow, train_labels_splt)\n",
        "\n",
        "#Test on validation set\n",
        "score = nb.score(val_bow, val_labels)\n",
        "print('Score on validation set:', score)\n",
        "\n",
        "#Predict on validation set\n",
        "y_pred = nb.predict(val_bow)\n",
        "\n",
        "#Confusion matrix\n",
        "cm = confusion_matrix(val_labels, y_pred)\n",
        "ConfusionMatrixDisplay(cm).plot()\n",
        "\n",
        "#Classification report\n",
        "report = classification_report(val_labels, y_pred)\n",
        "print(\"Classification report: \\n\", report)\n"
      ]
    },
    {
      "cell_type": "code",
      "execution_count": 42,
      "metadata": {
        "id": "mrAlwUH-tdkM",
        "colab": {
          "base_uri": "https://localhost:8080/",
          "height": 640
        },
        "outputId": "6f71adc4-80a7-47ff-901a-a5e697edc546"
      },
      "outputs": [
        {
          "output_type": "stream",
          "name": "stdout",
          "text": [
            "Score on validation set: 0.794\n",
            "Classification report: \n",
            "               precision    recall  f1-score   support\n",
            "\n",
            "           0       0.77      0.84      0.80       250\n",
            "           1       0.83      0.74      0.78       250\n",
            "\n",
            "    accuracy                           0.79       500\n",
            "   macro avg       0.80      0.79      0.79       500\n",
            "weighted avg       0.80      0.79      0.79       500\n",
            "\n"
          ]
        },
        {
          "output_type": "display_data",
          "data": {
            "text/plain": [
              "<Figure size 640x480 with 2 Axes>"
            ],
            "image/png": "[encoded data removed]"
          },
          "metadata": {}
        }
      ],
      "source": [
        "# Transform data using the countvecrorizer\n",
        "vectorizer = CountVectorizer()\n",
        "train_bow_to_comp = vectorizer.fit_transform(train_texts_splt)\n",
        "\n",
        "# Transform the validation data\n",
        "val_bow_to_comp = vectorizer.transform(val_texts)\n",
        "\n",
        "# Create the model\n",
        "nb_to_comp = MultinomialNB()\n",
        "# Fit the model\n",
        "nb_to_comp.fit(train_bow_to_comp, train_labels_splt)\n",
        "\n",
        "#Test on validation set\n",
        "score_to_comp = nb_to_comp.score(val_bow_to_comp, val_labels)\n",
        "print('Score on validation set:', score_to_comp)\n",
        "\n",
        "#Predict on validation set\n",
        "y_pred_to_comp = nb_to_comp.predict(val_bow_to_comp)\n",
        "\n",
        "#Confusion matrix\n",
        "cm_to_comp = confusion_matrix(val_labels, y_pred_to_comp)\n",
        "ConfusionMatrixDisplay(cm_to_comp).plot()\n",
        "\n",
        "#Classification report\n",
        "report_to_comp = classification_report(val_labels, y_pred_to_comp)\n",
        "print(\"Classification report: \\n\", report_to_comp)"
      ]
    },
    {
      "cell_type": "markdown",
      "source": [
        "Upon comparing the results, it seems that the implementation of scikit-learn has slightly better accuracy"
      ],
      "metadata": {
        "id": "g4MFKgPrAXiX"
      }
    },
    {
      "cell_type": "markdown",
      "metadata": {
        "id": "GsGeamk7tdko"
      },
      "source": [
        "<div class='alert alert-block alert-warning'>\n",
        "            Questions:</div>\n",
        "            \n",
        "Let us look at the *features* built by the ```vectorizer```. What seems to be the issue ?"
      ]
    },
    {
      "cell_type": "markdown",
      "source": [
        "In order to explain this differnce, two things comes to mind. First, the vocabulary that is obtained using the vectorizer has less elements than that obtained by count_words method. This is due to the fact that the vectorizer gets rid of the element that are present in alot of documents and have nearly no effect on the class. Second, The vectorizer takes into account numbers. In opposition, we got rid of them in our implementation."
      ],
      "metadata": {
        "id": "LGL2luFuB0-M"
      }
    },
    {
      "cell_type": "code",
      "execution_count": 43,
      "metadata": {
        "id": "j3PjXCgxtdko",
        "colab": {
          "base_uri": "https://localhost:8080/"
        },
        "outputId": "128912d7-2dc9-4316-c4a5-70f4ce0994bf"
      },
      "outputs": [
        {
          "output_type": "stream",
          "name": "stdout",
          "text": [
            "['00' '000' '00001' '007' '0079' '0080' '0083' '02' '05' '07' '08' '10'\n",
            " '100' '1000' '100m' '101' '102' '103' '105' '10th' '10yr' '11' '110' '12'\n",
            " '120' '123' '125' '12s' '12th' '13' '130' '134' '13th' '14' '145' '147'\n",
            " '14ieme' '14th' '15' '150' '16' '161' '1692' '16th' '16ème' '17' '1700'\n",
            " '1794' '17th' '18' '180' '1814' '1824' '1840' '1850' '1864' '1880'\n",
            " '1880s' '1889' '1892' '1895' '1897' '18th' '19' '1902' '1907' '1910'\n",
            " '1911' '1912' '1918' '1920' '1920s' '1921' '1922' '1924' '1925' '1927'\n",
            " '1928' '1929' '1930' '1930s' '1931' '1932' '1933' '1934' '1935' '1936'\n",
            " '1937' '1938' '1939' '1940' '1940s' '1941' '1942' '1943' '1944' '1945'\n",
            " '1946' '1947' '1948']\n"
          ]
        }
      ],
      "source": [
        "print(vectorizer.get_feature_names_out()[:100])"
      ]
    },
    {
      "cell_type": "code",
      "source": [
        "feature_names= list(voc.keys())\n",
        "feature_names[:100]\n"
      ],
      "metadata": {
        "colab": {
          "base_uri": "https://localhost:8080/"
        },
        "id": "wG8lothuA1mr",
        "outputId": "b0bf7601-8b3a-4b0c-9b82-ef0aba63ff12"
      },
      "execution_count": 44,
      "outputs": [
        {
          "output_type": "execute_result",
          "data": {
            "text/plain": [
              "['whove',\n",
              " 'discerned',\n",
              " 'actresses',\n",
              " 'monumentsstatuesfurnituredelicioushowever',\n",
              " 'shouts',\n",
              " 'expectedits',\n",
              " 'pettiness',\n",
              " 'crimes',\n",
              " 'meteorites',\n",
              " 'marcuss',\n",
              " 'forth<',\n",
              " 'conventional',\n",
              " 'engrossed',\n",
              " 'debt',\n",
              " 'skinny',\n",
              " 'unprecedented',\n",
              " 'mouthpiece',\n",
              " 'achieve<',\n",
              " 'landons',\n",
              " '>enough',\n",
              " 'amigos',\n",
              " 'leonardo',\n",
              " 'decades',\n",
              " 'quotes',\n",
              " 'sexiest',\n",
              " 'snag',\n",
              " 'refuse',\n",
              " 'pumpkin',\n",
              " 'structurally',\n",
              " 'amrohi',\n",
              " 'cap',\n",
              " 'mornell',\n",
              " 'child',\n",
              " 'boringly',\n",
              " 'lofty',\n",
              " 'miike',\n",
              " 'song',\n",
              " 'pembleton',\n",
              " 'snippets',\n",
              " 'introspection',\n",
              " 'soprano',\n",
              " 'cal',\n",
              " 'town',\n",
              " 'whales',\n",
              " 'prowls',\n",
              " 'vehicles',\n",
              " '>violent',\n",
              " 'glued',\n",
              " 'coincides',\n",
              " 'awfully',\n",
              " 'complication',\n",
              " 'amer',\n",
              " 'nobleman',\n",
              " 'prospects',\n",
              " 'boost',\n",
              " 'upper',\n",
              " 'idiotically',\n",
              " 'mannerisms',\n",
              " 'karen',\n",
              " 'charlatans',\n",
              " 'kiddie',\n",
              " 'rides',\n",
              " 'inception',\n",
              " 'reticent',\n",
              " 'desent',\n",
              " 'not<',\n",
              " 'dullness',\n",
              " 'colonial',\n",
              " 'checkbook',\n",
              " 'comediesbut',\n",
              " 'literature',\n",
              " 'peoplepusses',\n",
              " 'unbeknownest',\n",
              " 'supervise',\n",
              " 'ropes',\n",
              " 'genresee',\n",
              " 'mindedness',\n",
              " 'nails<',\n",
              " 'skis',\n",
              " 'occurrence',\n",
              " 'continent<',\n",
              " 'negligence',\n",
              " 'bournes',\n",
              " 'behave',\n",
              " 'obsession',\n",
              " 'negates',\n",
              " 'unfolds',\n",
              " 'bellied',\n",
              " 'bernie',\n",
              " 'marginalize',\n",
              " 'seminormalthey',\n",
              " 'happenings<',\n",
              " 'threads',\n",
              " 'techniques',\n",
              " 'panther',\n",
              " 'examiner',\n",
              " 'bloodstream',\n",
              " 'filmsit',\n",
              " 'marihuana',\n",
              " 'unrecognizable']"
            ]
          },
          "metadata": {},
          "execution_count": 44
        }
      ]
    },
    {
      "cell_type": "markdown",
      "metadata": {
        "id": "sncy-s_Dtdkp"
      },
      "source": [
        "### Improving representations\n",
        "\n",
        "Mainly, the arguments of the class ```vectorizer``` will allow us to easily change the way our textual data is represented. Let us try to work on our *Bag-of-words* representations:\n",
        "   \n",
        "#### Do not take into account words that are too frequent:\n",
        "\n",
        "You can use the argument ```max_df=1.0``` to change the amount of words taken into account.\n",
        "\n",
        "#### Try different granularities:\n",
        "\n",
        "Rather than just counting words, we can count sequences of words - limited in size, of course.\n",
        "We call a sequence of $n$ words a $n$-gram: let's try using 2 and 3-grams (bi- and trigrams).\n",
        "We can also try to use character sequences instead of word sequences.\n",
        "\n",
        "We will be interested in the options ```analyze='word'``` and ```ngram_range=(1, 2)``` which we'll change to alter the granularity: **obtain classification results with them**.\n",
        "\n",
        "Again: using these ways of getting more features from our text will probably have more impact if we do not have much training data to begin with ! To accelerate experiments, use the ```Pipeline``` tool from scikit-learn.\n",
        "\n",
        "<div class='alert alert-block alert-info'>\n",
        "            Code:</div>"
      ]
    },
    {
      "cell_type": "code",
      "execution_count": 45,
      "metadata": {
        "id": "1ruihKOXtdkp"
      },
      "outputs": [],
      "source": [
        "from sklearn.pipeline import Pipeline"
      ]
    },
    {
      "cell_type": "code",
      "execution_count": 46,
      "metadata": {
        "id": "lfxLCwlytdkp",
        "colab": {
          "base_uri": "https://localhost:8080/"
        },
        "outputId": "d9746d47-997e-49c4-dd29-19a4a1e0befe"
      },
      "outputs": [
        {
          "output_type": "stream",
          "name": "stdout",
          "text": [
            "              precision    recall  f1-score   support\n",
            "\n",
            "           0       0.77      0.84      0.80       250\n",
            "           1       0.83      0.74      0.78       250\n",
            "\n",
            "    accuracy                           0.79       500\n",
            "   macro avg       0.80      0.79      0.79       500\n",
            "weighted avg       0.80      0.79      0.79       500\n",
            "\n"
          ]
        }
      ],
      "source": [
        "pipeline_base = Pipeline([\n",
        "    ('vect', CountVectorizer(max_features=30000, analyzer='word', stop_words=None)),\n",
        "    ('clf', MultinomialNB()),\n",
        "])\n",
        "pipeline_base.fit(train_texts_splt, train_labels_splt)\n",
        "val_pred = pipeline_base.predict(val_texts)\n",
        "print(classification_report(val_labels, val_pred))"
      ]
    },
    {
      "cell_type": "code",
      "execution_count": 47,
      "metadata": {
        "id": "dYhIeRfJtdkp"
      },
      "outputs": [],
      "source": [
        "pipeline_grid = Pipeline([\n",
        "    ('vect', CountVectorizer()),\n",
        "    ('clf', MultinomialNB()),\n",
        "])\n",
        "param_grid = {\n",
        "    'vect__max_df': [0.5, 0.75,0.85, 1.0],\n",
        "    'vect__min_df': [1, 2, 5],\n",
        "    'vect__analyzer': ['word', 'char'],\n",
        "    'vect__ngram_range': [(1, 1), (1, 2), (2, 2),(3,3)],\n",
        "    'vect__max_features' : [30000],\n",
        "    'vect__stop_words' :  [None]\n",
        "}"
      ]
    },
    {
      "cell_type": "code",
      "source": [
        "from sklearn.model_selection import GridSearchCV"
      ],
      "metadata": {
        "id": "3X7YV_lCTteg"
      },
      "execution_count": 48,
      "outputs": []
    },
    {
      "cell_type": "code",
      "source": [
        "\n",
        "grid_search = GridSearchCV(pipeline_grid, param_grid, scoring=\"f1\", n_jobs=-1, cv=5) # We use cross validation"
      ],
      "metadata": {
        "id": "JyUG41aEWi2G"
      },
      "execution_count": 49,
      "outputs": []
    },
    {
      "cell_type": "code",
      "source": [
        "grid_search.fit(train_texts_splt, train_labels_splt)"
      ],
      "metadata": {
        "colab": {
          "base_uri": "https://localhost:8080/",
          "height": 154
        },
        "id": "AA0XgUX1Wi0B",
        "outputId": "f63fabbb-fdfb-47ce-a1a2-ef15740891ba"
      },
      "execution_count": 50,
      "outputs": [
        {
          "output_type": "execute_result",
          "data": {
            "text/plain": [
              "GridSearchCV(cv=5,\n",
              "             estimator=Pipeline(steps=[('vect', CountVectorizer()),\n",
              "                                       ('clf', MultinomialNB())]),\n",
              "             n_jobs=-1,\n",
              "             param_grid={'vect__analyzer': ['word', 'char'],\n",
              "                         'vect__max_df': [0.5, 0.75, 0.85, 1.0],\n",
              "                         'vect__max_features': [30000],\n",
              "                         'vect__min_df': [1, 2, 5],\n",
              "                         'vect__ngram_range': [(1, 1), (1, 2), (2, 2), (3, 3)],\n",
              "                         'vect__stop_words': [None]},\n",
              "             scoring='f1')"
            ],
            "text/html": [
              "<style>#sk-container-id-1 {color: black;background-color: white;}#sk-container-id-1 pre{padding: 0;}#sk-container-id-1 div.sk-toggleable {background-color: white;}#sk-container-id-1 label.sk-toggleable__label {cursor: pointer;display: block;width: 100%;margin-bottom: 0;padding: 0.3em;box-sizing: border-box;text-align: center;}#sk-container-id-1 label.sk-toggleable__label-arrow:before {content: \"▸\";float: left;margin-right: 0.25em;color: #696969;}#sk-container-id-1 label.sk-toggleable__label-arrow:hover:before {color: black;}#sk-container-id-1 div.sk-estimator:hover label.sk-toggleable__label-arrow:before {color: black;}#sk-container-id-1 div.sk-toggleable__content {max-height: 0;max-width: 0;overflow: hidden;text-align: left;background-color: #f0f8ff;}#sk-container-id-1 div.sk-toggleable__content pre {margin: 0.2em;color: black;border-radius: 0.25em;background-color: #f0f8ff;}#sk-container-id-1 input.sk-toggleable__control:checked~div.sk-toggleable__content {max-height: 200px;max-width: 100%;overflow: auto;}#sk-container-id-1 input.sk-toggleable__control:checked~label.sk-toggleable__label-arrow:before {content: \"▾\";}#sk-container-id-1 div.sk-estimator input.sk-toggleable__control:checked~label.sk-toggleable__label {background-color: #d4ebff;}#sk-container-id-1 div.sk-label input.sk-toggleable__control:checked~label.sk-toggleable__label {background-color: #d4ebff;}#sk-container-id-1 input.sk-hidden--visually {border: 0;clip: rect(1px 1px 1px 1px);clip: rect(1px, 1px, 1px, 1px);height: 1px;margin: -1px;overflow: hidden;padding: 0;position: absolute;width: 1px;}#sk-container-id-1 div.sk-estimator {font-family: monospace;background-color: #f0f8ff;border: 1px dotted black;border-radius: 0.25em;box-sizing: border-box;margin-bottom: 0.5em;}#sk-container-id-1 div.sk-estimator:hover {background-color: #d4ebff;}#sk-container-id-1 div.sk-parallel-item::after {content: \"\";width: 100%;border-bottom: 1px solid gray;flex-grow: 1;}#sk-container-id-1 div.sk-label:hover label.sk-toggleable__label {background-color: #d4ebff;}#sk-container-id-1 div.sk-serial::before {content: \"\";position: absolute;border-left: 1px solid gray;box-sizing: border-box;top: 0;bottom: 0;left: 50%;z-index: 0;}#sk-container-id-1 div.sk-serial {display: flex;flex-direction: column;align-items: center;background-color: white;padding-right: 0.2em;padding-left: 0.2em;position: relative;}#sk-container-id-1 div.sk-item {position: relative;z-index: 1;}#sk-container-id-1 div.sk-parallel {display: flex;align-items: stretch;justify-content: center;background-color: white;position: relative;}#sk-container-id-1 div.sk-item::before, #sk-container-id-1 div.sk-parallel-item::before {content: \"\";position: absolute;border-left: 1px solid gray;box-sizing: border-box;top: 0;bottom: 0;left: 50%;z-index: -1;}#sk-container-id-1 div.sk-parallel-item {display: flex;flex-direction: column;z-index: 1;position: relative;background-color: white;}#sk-container-id-1 div.sk-parallel-item:first-child::after {align-self: flex-end;width: 50%;}#sk-container-id-1 div.sk-parallel-item:last-child::after {align-self: flex-start;width: 50%;}#sk-container-id-1 div.sk-parallel-item:only-child::after {width: 0;}#sk-container-id-1 div.sk-dashed-wrapped {border: 1px dashed gray;margin: 0 0.4em 0.5em 0.4em;box-sizing: border-box;padding-bottom: 0.4em;background-color: white;}#sk-container-id-1 div.sk-label label {font-family: monospace;font-weight: bold;display: inline-block;line-height: 1.2em;}#sk-container-id-1 div.sk-label-container {text-align: center;}#sk-container-id-1 div.sk-container {/* jupyter's `normalize.less` sets `[hidden] { display: none; }` but bootstrap.min.css set `[hidden] { display: none !important; }` so we also need the `!important` here to be able to override the default hidden behavior on the sphinx rendered scikit-learn.org. See: https://github.com/scikit-learn/scikit-learn/issues/21755 */display: inline-block !important;position: relative;}#sk-container-id-1 div.sk-text-repr-fallback {display: none;}</style><div id=\"sk-container-id-1\" class=\"sk-top-container\"><div class=\"sk-text-repr-fallback\"><pre>GridSearchCV(cv=5,\n",
              "             estimator=Pipeline(steps=[(&#x27;vect&#x27;, CountVectorizer()),\n",
              "                                       (&#x27;clf&#x27;, MultinomialNB())]),\n",
              "             n_jobs=-1,\n",
              "             param_grid={&#x27;vect__analyzer&#x27;: [&#x27;word&#x27;, &#x27;char&#x27;],\n",
              "                         &#x27;vect__max_df&#x27;: [0.5, 0.75, 0.85, 1.0],\n",
              "                         &#x27;vect__max_features&#x27;: [30000],\n",
              "                         &#x27;vect__min_df&#x27;: [1, 2, 5],\n",
              "                         &#x27;vect__ngram_range&#x27;: [(1, 1), (1, 2), (2, 2), (3, 3)],\n",
              "                         &#x27;vect__stop_words&#x27;: [None]},\n",
              "             scoring=&#x27;f1&#x27;)</pre><b>In a Jupyter environment, please rerun this cell to show the HTML representation or trust the notebook. <br />On GitHub, the HTML representation is unable to render, please try loading this page with nbviewer.org.</b></div><div class=\"sk-container\" hidden><div class=\"sk-item sk-dashed-wrapped\"><div class=\"sk-label-container\"><div class=\"sk-label sk-toggleable\"><input class=\"sk-toggleable__control sk-hidden--visually\" id=\"sk-estimator-id-1\" type=\"checkbox\" ><label for=\"sk-estimator-id-1\" class=\"sk-toggleable__label sk-toggleable__label-arrow\">GridSearchCV</label><div class=\"sk-toggleable__content\"><pre>GridSearchCV(cv=5,\n",
              "             estimator=Pipeline(steps=[(&#x27;vect&#x27;, CountVectorizer()),\n",
              "                                       (&#x27;clf&#x27;, MultinomialNB())]),\n",
              "             n_jobs=-1,\n",
              "             param_grid={&#x27;vect__analyzer&#x27;: [&#x27;word&#x27;, &#x27;char&#x27;],\n",
              "                         &#x27;vect__max_df&#x27;: [0.5, 0.75, 0.85, 1.0],\n",
              "                         &#x27;vect__max_features&#x27;: [30000],\n",
              "                         &#x27;vect__min_df&#x27;: [1, 2, 5],\n",
              "                         &#x27;vect__ngram_range&#x27;: [(1, 1), (1, 2), (2, 2), (3, 3)],\n",
              "                         &#x27;vect__stop_words&#x27;: [None]},\n",
              "             scoring=&#x27;f1&#x27;)</pre></div></div></div><div class=\"sk-parallel\"><div class=\"sk-parallel-item\"><div class=\"sk-item\"><div class=\"sk-label-container\"><div class=\"sk-label sk-toggleable\"><input class=\"sk-toggleable__control sk-hidden--visually\" id=\"sk-estimator-id-2\" type=\"checkbox\" ><label for=\"sk-estimator-id-2\" class=\"sk-toggleable__label sk-toggleable__label-arrow\">estimator: Pipeline</label><div class=\"sk-toggleable__content\"><pre>Pipeline(steps=[(&#x27;vect&#x27;, CountVectorizer()), (&#x27;clf&#x27;, MultinomialNB())])</pre></div></div></div><div class=\"sk-serial\"><div class=\"sk-item\"><div class=\"sk-serial\"><div class=\"sk-item\"><div class=\"sk-estimator sk-toggleable\"><input class=\"sk-toggleable__control sk-hidden--visually\" id=\"sk-estimator-id-3\" type=\"checkbox\" ><label for=\"sk-estimator-id-3\" class=\"sk-toggleable__label sk-toggleable__label-arrow\">CountVectorizer</label><div class=\"sk-toggleable__content\"><pre>CountVectorizer()</pre></div></div></div><div class=\"sk-item\"><div class=\"sk-estimator sk-toggleable\"><input class=\"sk-toggleable__control sk-hidden--visually\" id=\"sk-estimator-id-4\" type=\"checkbox\" ><label for=\"sk-estimator-id-4\" class=\"sk-toggleable__label sk-toggleable__label-arrow\">MultinomialNB</label><div class=\"sk-toggleable__content\"><pre>MultinomialNB()</pre></div></div></div></div></div></div></div></div></div></div></div></div>"
            ]
          },
          "metadata": {},
          "execution_count": 50
        }
      ]
    },
    {
      "cell_type": "code",
      "source": [
        "grid_search.best_params_"
      ],
      "metadata": {
        "colab": {
          "base_uri": "https://localhost:8080/"
        },
        "id": "nVNqm-AlWixY",
        "outputId": "85780803-785d-46d5-b791-59a9fcd049fc"
      },
      "execution_count": 51,
      "outputs": [
        {
          "output_type": "execute_result",
          "data": {
            "text/plain": [
              "{'vect__analyzer': 'word',\n",
              " 'vect__max_df': 0.5,\n",
              " 'vect__max_features': 30000,\n",
              " 'vect__min_df': 5,\n",
              " 'vect__ngram_range': (1, 2),\n",
              " 'vect__stop_words': None}"
            ]
          },
          "metadata": {},
          "execution_count": 51
        }
      ]
    },
    {
      "cell_type": "code",
      "source": [
        "best_params: dict[str, object] = {key[6:] : value for key, value in\n",
        "                                    zip(grid_search.best_params_.keys(),\n",
        "                                        grid_search.best_params_.values()\n",
        "                                        )\n",
        "                                  }\n",
        "best_params"
      ],
      "metadata": {
        "colab": {
          "base_uri": "https://localhost:8080/"
        },
        "id": "1EuCg2teWivI",
        "outputId": "e99fa899-ddb1-42d1-8004-c35580af2339"
      },
      "execution_count": 52,
      "outputs": [
        {
          "output_type": "execute_result",
          "data": {
            "text/plain": [
              "{'analyzer': 'word',\n",
              " 'max_df': 0.5,\n",
              " 'max_features': 30000,\n",
              " 'min_df': 5,\n",
              " 'ngram_range': (1, 2),\n",
              " 'stop_words': None}"
            ]
          },
          "metadata": {},
          "execution_count": 52
        }
      ]
    },
    {
      "cell_type": "code",
      "source": [
        "print(\"Best score: {:.4f}\".format(grid_search.best_score_))"
      ],
      "metadata": {
        "colab": {
          "base_uri": "https://localhost:8080/"
        },
        "id": "eOHMwABUWpUG",
        "outputId": "39016c6f-58c0-4110-8a54-200579d71316"
      },
      "execution_count": 53,
      "outputs": [
        {
          "output_type": "stream",
          "name": "stdout",
          "text": [
            "Best score: 0.8363\n"
          ]
        }
      ]
    },
    {
      "cell_type": "code",
      "source": [
        "\n",
        "best_model_variance = grid_search.cv_results_['std_test_score'][grid_search.best_index_]\n",
        "best_model_variance"
      ],
      "metadata": {
        "colab": {
          "base_uri": "https://localhost:8080/"
        },
        "id": "vwr7f7XmaHud",
        "outputId": "d8d3637b-6d5c-4951-a80a-a466c6fad0e2"
      },
      "execution_count": 72,
      "outputs": [
        {
          "output_type": "execute_result",
          "data": {
            "text/plain": [
              "0.014912457542580273"
            ]
          },
          "metadata": {},
          "execution_count": 72
        }
      ]
    },
    {
      "cell_type": "markdown",
      "source": [
        "We can see the best params that produce the best metrics values (see above)\n",
        "We have used the following strategy :    \n",
        "\n",
        "-We have create a list of possible hyperparameters, mainly our focus was on the max_df and min_df params. To find the best model with this pool of parameters we have opted for the crossvalidation procdure. With 5 partitions in the training data set : 4 were used for the training of the current model and one for validating it. We used f1-score as a metric of evaluation of the test set (partition 1 over 5).\n",
        "\n",
        "For each combination of hyperparemeters we get f1 score metric (mean over the five training and the variance of this metric). This method enables us to avoid overfitting and underfitting of model since for a given combination of hyperparemeters we have a high average of f1-score  the model isn't underfit and when we have a low variance we avoid overfitting.\n",
        "\n",
        "**Conclusion**\n",
        "We have found the optimal set of hyperparameters amoung the given pool. We have an average of f1-score = 0.8363 and a variance of 0.015 which means that our model is performant and is not overfitted. Furthermore, the model doesn't underfit the data because the average of metrics is high."
      ],
      "metadata": {
        "id": "uPQ-Ls2TWoNr"
      }
    },
    {
      "cell_type": "code",
      "source": [
        "def get_results(y_true: np.ndarray, y_pred: np.ndarray) -> None :\n",
        "    \"\"\"\n",
        "    :param y_true: true labels\n",
        "    :param y_pred: labels predicted (for a specific model)\n",
        "    print evaluation metrics for the model tied to y_pred\n",
        "    \"\"\"\n",
        "    conf_matrix = confusion_matrix(y_true, y_pred)\n",
        "    ConfusionMatrixDisplay(conf_matrix).plot()\n",
        "    print(classification_report(y_true, y_pred))\n",
        "\n",
        "pipeline_base = Pipeline([\n",
        "    ('vect', CountVectorizer(**best_params)),\n",
        "    ('clf', MultinomialNB()),\n",
        "])\n",
        "pipeline_base.fit(train_texts_splt, train_labels_splt)\n",
        "val_pred = pipeline_base.predict(val_texts)\n",
        "get_results(val_labels, val_pred)"
      ],
      "metadata": {
        "colab": {
          "base_uri": "https://localhost:8080/",
          "height": 605
        },
        "id": "MngKkCzOWpSI",
        "outputId": "77be77d8-f4ad-4112-f7e5-fe03a023bf79"
      },
      "execution_count": 54,
      "outputs": [
        {
          "output_type": "stream",
          "name": "stdout",
          "text": [
            "              precision    recall  f1-score   support\n",
            "\n",
            "           0       0.83      0.83      0.83       250\n",
            "           1       0.83      0.83      0.83       250\n",
            "\n",
            "    accuracy                           0.83       500\n",
            "   macro avg       0.83      0.83      0.83       500\n",
            "weighted avg       0.83      0.83      0.83       500\n",
            "\n"
          ]
        },
        {
          "output_type": "display_data",
          "data": {
            "text/plain": [
              "<Figure size 640x480 with 2 Axes>"
            ],
            "image/png": "[encoded data removed]"
          },
          "metadata": {}
        }
      ]
    },
    {
      "cell_type": "markdown",
      "metadata": {
        "id": "Nac3fskttdkp"
      },
      "source": [
        "#### Tf-idf:\n",
        "\n",
        "This is the product of the frequency of the term (TF) and its inverse frequency in documents (IDF).\n",
        "This method is usually used to measure the importance of a term $i$ in a document $j$ relative to the rest of the corpus, from a matrix of occurrences $ words \\times documents$. Thus, for a matrix $\\mathbf{T}$ of $|V|$ terms and $D$ documents:\n",
        "$$\\text{TF}(T, w, d) = \\frac{T_{w,d}}{\\sum_{w'=1}^{|V|} T_{w',d}} $$\n",
        "\n",
        "$$\\text{IDF}(T, w) = \\log\\left(\\frac{D}{|\\{d : T_{w,d} > 0\\}|}\\right)$$\n",
        "\n",
        "$$\\text{TF-IDF}(T, w, d) = \\text{TF}(X, w, d) \\cdot \\text{IDF}(T, w)$$\n",
        "\n",
        "It can be adapted to our case by considering that the context of the second word is the document. However, TF-IDF is generally better suited to low-density matrices, since it will penalize terms that appear in a large part of the documents."
      ]
    },
    {
      "cell_type": "markdown",
      "metadata": {
        "id": "bsonKS-Atdkq"
      },
      "source": [
        "Experiment with this new representations using the ```TfidfTransformer``` applied on top of ```CountVectorizer```.\n",
        "\n",
        "<div class='alert alert-block alert-info'>\n",
        "            Code:</div>"
      ]
    },
    {
      "cell_type": "code",
      "execution_count": 55,
      "metadata": {
        "id": "KELy2Hcgtdkq"
      },
      "outputs": [],
      "source": [
        "from sklearn.feature_extraction.text import TfidfTransformer"
      ]
    },
    {
      "cell_type": "code",
      "execution_count": 56,
      "metadata": {
        "id": "mxUxEiD0tdkq",
        "colab": {
          "base_uri": "https://localhost:8080/",
          "height": 605
        },
        "outputId": "3ec96754-eb3e-447e-d10c-397dfcc965ad"
      },
      "outputs": [
        {
          "output_type": "stream",
          "name": "stdout",
          "text": [
            "              precision    recall  f1-score   support\n",
            "\n",
            "           0       0.82      0.86      0.84       250\n",
            "           1       0.85      0.82      0.83       250\n",
            "\n",
            "    accuracy                           0.84       500\n",
            "   macro avg       0.84      0.84      0.84       500\n",
            "weighted avg       0.84      0.84      0.84       500\n",
            "\n"
          ]
        },
        {
          "output_type": "display_data",
          "data": {
            "text/plain": [
              "<Figure size 640x480 with 2 Axes>"
            ],
            "image/png": "[encoded data removed]"
          },
          "metadata": {}
        }
      ],
      "source": [
        "best_params = {'analyzer': 'word',\n",
        " 'max_df': 0.5,\n",
        " 'max_features': 30000,\n",
        " 'min_df': 5,\n",
        " 'ngram_range': (1, 2),\n",
        " 'stop_words': None}\n",
        "pipeline_base = Pipeline([\n",
        "    ('vect', CountVectorizer(**best_params)),\n",
        "    ('tfid', TfidfTransformer()),\n",
        "    ('clf', MultinomialNB()),\n",
        "])\n",
        "pipeline_base.fit(train_texts_splt, train_labels_splt)\n",
        "val_pred = pipeline_base.predict(val_texts)\n",
        "get_results(val_labels, val_pred)"
      ]
    },
    {
      "cell_type": "markdown",
      "metadata": {
        "id": "34wQXiW9tdks"
      },
      "source": [
        "## IV - More pre-processing: getting vocabularies\n",
        "\n",
        "For more flexibility, we will implement separately a function returning the vocabulary. Here we will have to be able to control its size, either by indicating a **maximum number of words**, or a **minimum number of occurrences** to take the words into account. **We add, at the end, an \"unknown\" word that will replace all the words that do not appear in our \"limited\" vocabulary**.\n",
        "<div class='alert alert-block alert-info'>\n",
        "            Code:</div>"
      ]
    },
    {
      "cell_type": "code",
      "execution_count": 57,
      "metadata": {
        "id": "ys5JCxsotdks"
      },
      "outputs": [],
      "source": [
        "def vocabulary(corpus, count_threshold=0, voc_threshold=10000):\n",
        "    \"\"\"\n",
        "    Function using word counts to build a vocabulary - can be improved with a second parameter for\n",
        "    setting a frequency threshold\n",
        "    Params:\n",
        "        corpus (list of strings): corpus of sentences\n",
        "        count_threshold (int): number of occurences necessary for a word to be included in the vocabulary\n",
        "        voc_threshold (int): maximum size of the vocabulary. Use \"0\" to indicate no limit\n",
        "    Returns:\n",
        "        vocabulary (dictionary): keys: list of distinct words across the corpus\n",
        "                                 values: indexes corresponding to each word sorted by frequency\n",
        "        vocabulary_word_counts (dictionary): keys: list of distinct words across the corpus\n",
        "                                             values: corresponding counts of words in the corpus\n",
        "    \"\"\"\n",
        "    word_counts = {}\n",
        "    words = set()\n",
        "\n",
        "    tokenized_texts = []\n",
        "    for sent in corpus:\n",
        "\n",
        "            text = word_tokenize(sent.lower())\n",
        "            words .update(text)\n",
        "            tokenized_texts.append(text)\n",
        "\n",
        "    counts_words = dict(zip(list(words), np.zeros(len(words), dtype=int)))\n",
        "\n",
        "    # Count the words\n",
        "    for text in tokenized_texts:\n",
        "        for word in text:\n",
        "            counts_words[word] += 1\n",
        "\n",
        "    filtered_word_counts = {} # Filter according to count_threhshold\n",
        "    for word in counts_words:\n",
        "        count_aux = counts_words[word]\n",
        "        if count_aux >= count_threshold:\n",
        "            filtered_word_counts[word] = count_aux\n",
        "\n",
        "\n",
        "    # Extract the words according to frequency\n",
        "    sorted_words = sorted(filtered_word_counts.items(), key = lambda val:(-val[1], val[0]))\n",
        "\n",
        "    # Remove the words above voc-threshold\n",
        "    if voc_threshold == 0:\n",
        "        filtered_words = dict(sorted_words)\n",
        "    else:\n",
        "        if len(sorted_words) < voc_threshold:\n",
        "            filtered_words = dict(sorted_words)\n",
        "        else:\n",
        "            filtered_words = dict(sorted_words[:voc_threshold])\n",
        "\n",
        "\n",
        "    # Add UNK\n",
        "    words = filtered_words\n",
        "    words['UNK'] = np.sum ([counts_words[i] for i in counts_words.keys()]) -np.sum ([filtered_words[i] for i in filtered_words.keys()])\n",
        "\n",
        "    # Create vocabulary from \"words\"\n",
        "    vocabulary = dict(zip(list(words), np.arange(len(filtered_words)+1, dtype=int)))\n",
        "\n",
        "    return vocabulary, words"
      ]
    },
    {
      "cell_type": "code",
      "execution_count": 58,
      "metadata": {
        "id": "e8kE708Rtdkt",
        "colab": {
          "base_uri": "https://localhost:8080/"
        },
        "outputId": "16e90a4c-f1ff-42e5-f5da-59eb450304df"
      },
      "outputs": [
        {
          "output_type": "stream",
          "name": "stdout",
          "text": [
            "{'down': 0, 'the': 1, 'i': 2, 'UNK': 3}\n",
            "{'down': 6, 'the': 6, 'i': 5, 'UNK': 10}\n",
            "{'down': 0, 'the': 1, 'i': 2, 'avenue': 3, 'boulevard': 4, 'walk': 5, 'walked': 6, 'city': 7, 'ran': 8, 'UNK': 9}\n",
            "{'down': 6, 'the': 6, 'i': 5, 'avenue': 2, 'boulevard': 2, 'walk': 2, 'walked': 2, 'city': 1, 'ran': 1, 'UNK': 0}\n"
          ]
        }
      ],
      "source": [
        "# Example for testing:\n",
        "\n",
        "corpus = ['I walked down down the boulevard',\n",
        "          'I walked down the avenue',\n",
        "          'I ran down the boulevard',\n",
        "          'I walk down the city',\n",
        "          'I walk down the the avenue']\n",
        "\n",
        "voc, counts = vocabulary(corpus, count_threshold = 3)\n",
        "print(voc)\n",
        "print(counts)\n",
        "\n",
        "# We expect something like this:\n",
        "# (In this example, we don't count 'UNK' unknown words, but you can if you want to.\n",
        "# How useful it may be depends on the data -> we will use the counts later with word2vec, keep that in mind)\n",
        "#  {'down': 0, 'the': 1, 'i': 2, 'UNK': 3}\n",
        "#  {'down': 6, 'the': 6, 'i': 5, 'UNK': 0}\n",
        "\n",
        "voc, counts = vocabulary(corpus)\n",
        "print(voc)\n",
        "print(counts)\n",
        "\n",
        "# We expect something like this:\n",
        "#  {'down': 0, 'the': 1, 'i': 2, 'walked': 3, 'boulevard': 4, 'avenue': 5, 'walk': 6, 'ran': 7, 'city': 8, 'UNK': 9}\n",
        "#  {'down': 6, 'the': 6, 'i': 5, 'walked': 2, 'boulevard': 2, 'avenue': 2, 'walk': 2, 'ran': 1, 'city': 1, 'UNK': 0}"
      ]
    },
    {
      "cell_type": "markdown",
      "metadata": {
        "id": "m2qW_8j7tdkt"
      },
      "source": [
        "### Quick study of the data\n",
        "\n",
        "We would like to get an idea of what's in these film reviews. So we'll get the vocabulary (in full) and represent the frequencies of the words, in order (be careful, you'll have to use a logarithmic scale): we should find back Zipf's law. This will give us an idea of the size of the vocabulary we will be able to choose: it's a matter of making a compromise between the necessary resources (size of the objects in memory) and the amount of information we can get from them (rare words can bring a lot of information, but it's difficult to learn good representations of them, because they are rare!).  \n",
        "\n",
        "<div class='alert alert-block alert-info'>\n",
        "            Code:</div>"
      ]
    },
    {
      "cell_type": "markdown",
      "source": [
        "Here we see that we found the Zipf's distribution as expected"
      ],
      "metadata": {
        "id": "QDvW6k-IcExe"
      }
    },
    {
      "cell_type": "code",
      "execution_count": 59,
      "metadata": {
        "id": "Hmt2Gb7Stdku",
        "colab": {
          "base_uri": "https://localhost:8080/",
          "height": 962
        },
        "outputId": "abd268f1-c8fb-4b8b-ef37-33716ffe6ff4"
      },
      "outputs": [
        {
          "output_type": "display_data",
          "data": {
            "text/plain": [
              "<Figure size 2000x500 with 1 Axes>"
            ],
            "image/png": "[encoded data removed]"
          },
          "metadata": {}
        },
        {
          "output_type": "stream",
          "name": "stdout",
          "text": [
            "Vocabulary size: 111833\n",
            "Part of the corpus by taking the \"x\" most frequent words ?\n"
          ]
        },
        {
          "output_type": "display_data",
          "data": {
            "text/plain": [
              "<Figure size 2000x500 with 1 Axes>"
            ],
            "image/png": "[encoded data removed]"
          },
          "metadata": {}
        }
      ],
      "source": [
        "# We would like to display the curve of word frequencies given their rank (index) in the vocabulary\n",
        "vocab, word_counts = vocabulary(train_texts,0,0)\n",
        "\n",
        "frequency = np.array(list(word_counts.values())) / np.sum(list(word_counts.values()))\n",
        "rank = np.array(list(vocab.values()))\n",
        "\n",
        "# We can for example use plt.scatter()\n",
        "plt.figure(figsize=(20,5))\n",
        "plt.title('Word counts versus rank')\n",
        "#\n",
        "#  To fill in !\n",
        "#\n",
        "plt.scatter(rank, frequency, s=1)\n",
        "plt.yscale('log')\n",
        "plt.xscale('log')\n",
        "plt.show()\n",
        "\n",
        "# We would like to know how much of the data is represented by the 'k' most frequent words\n",
        "print('Vocabulary size: %i' % len(vocab))\n",
        "print('Part of the corpus by taking the \"x\" most frequent words ?')\n",
        "#\n",
        "#  To fill in !-\n",
        "#\n",
        "cum_frequency = np.cumsum(frequency) / np.sum(frequency) * 100\n",
        "\n",
        "plt.figure(figsize=(20,5))\n",
        "plt.title('Cumulative frequency versus rank')\n",
        "plt.plot(rank, cum_frequency)\n",
        "plt.yscale('log')\n",
        "plt.xscale('log')\n",
        "plt.show()"
      ]
    },
    {
      "cell_type": "code",
      "source": [
        "print(len(vocab))"
      ],
      "metadata": {
        "colab": {
          "base_uri": "https://localhost:8080/"
        },
        "id": "8rhPlR9W0ge4",
        "outputId": "5dca3e54-1c9e-4b93-e8fd-6ed7009eb89a"
      },
      "execution_count": 60,
      "outputs": [
        {
          "output_type": "stream",
          "name": "stdout",
          "text": [
            "111833\n"
          ]
        }
      ]
    },
    {
      "cell_type": "markdown",
      "metadata": {
        "id": "mKSOqDvetdku"
      },
      "source": [
        "<div class='alert alert-block alert-warning'>\n",
        "            Questions:</div>\n",
        "            \n",
        "Word2vec's implementation cuts the vocabulary size by using **only words with at least 5 occurences**, by default. What vocabulary size would it give here ? Does it seem like a good compromise, looking at the graph ?"
      ]
    },
    {
      "cell_type": "markdown",
      "source": [
        "\n",
        "Given a corpus of approximatly 20,000 texts, each with an approximate size of 1,000 words, we can estimate the total number of words in the corpus.\n",
        "\n",
        "Total number of words = Number of texts x Average text size\n",
        "\n",
        "Total number of words = 25,000 x 1,000\n",
        "\n",
        "Total number of words = 25,000,000\n",
        "\n",
        "Now, we can estimate the vocabulary size by considering Zipf's law. Zipf's law states that the frequency of a word is inversely proportional to its rank in the frequency table. It means that a few words are very common, while the majority of words in the vocabulary set are rare.\n",
        "\n",
        "To estimate the vocabulary size, we need to consider the distribution of word frequencies in the corpus. Typically, a large portion of the vocabulary consists of rare words with low frequencies.\n",
        "\n",
        "The plot shows the frequency distribution of words. Based on this graph, we can determine the frequency at which most words occur. If we set the minimum occurrence threshold at 5, it means that words occurring less than 5 times will be excluded from the vocabulary.\n",
        "\n",
        "With a corpus of 25 million words and considering Zipf's law, we would expect a large number of unique words. Setting a minimum occurrence threshold of 5 would exclude many rare words, reducing the vocabulary size.\n",
        "\n",
        "As we saw using the grid-search min_df = 5 is a part of the best hyperparameter set. As consequence this value should represent a good compromise. In fact, we were able to considerably reduce the number of words in our vocalbulary set (reducing it from 111833 to 31572 of the total number which represents around 28% of the intial vocabulary size) and despite having less features we got a very good performance (low bias and low variance) on the model.\n",
        "\n"
      ],
      "metadata": {
        "id": "3sjd9OCmcnpd"
      }
    },
    {
      "cell_type": "code",
      "execution_count": 61,
      "metadata": {
        "id": "ziFFoCkHtdkv",
        "colab": {
          "base_uri": "https://localhost:8080/",
          "height": 1000
        },
        "outputId": "b45a03f9-e2ae-472c-ff3e-42bbb1b63c43"
      },
      "outputs": [
        {
          "output_type": "display_data",
          "data": {
            "text/plain": [
              "<Figure size 2000x500 with 1 Axes>"
            ],
            "image/png": "[encoded data removed]"
          },
          "metadata": {}
        },
        {
          "output_type": "stream",
          "name": "stdout",
          "text": [
            "Vocabulary size: 31572\n",
            "Part of the corpus by taking the \"x\" most frequent words ?\n"
          ]
        },
        {
          "output_type": "display_data",
          "data": {
            "text/plain": [
              "<Figure size 2000x500 with 1 Axes>"
            ],
            "image/png": "[encoded data removed]"
          },
          "metadata": {}
        },
        {
          "output_type": "stream",
          "name": "stdout",
          "text": [
            "Part of the corpus by taking the 1000 most frequent words: 79.970 %\n",
            "Part of the corpus by taking the 10000 most frequent words: 94.623 %\n",
            "Part of the corpus by taking the 5000 most frequent words: 91.087 %\n"
          ]
        }
      ],
      "source": [
        "# We would like to display the curve of word frequencies given their rank (index) in the vocabulary\n",
        "vocab, word_counts = vocabulary(train_texts,5,0)\n",
        "\n",
        "frequency = np.array(list(word_counts.values())) / np.sum(list(word_counts.values()))\n",
        "rank = np.array(list(vocab.values()))\n",
        "\n",
        "# We can for example use plt.scatter()\n",
        "plt.figure(figsize=(20,5))\n",
        "plt.title('Word counts versus rank')\n",
        "plt.scatter(rank, frequency, s=1)\n",
        "plt.yscale('log')\n",
        "plt.xscale('log')\n",
        "plt.show()\n",
        "\n",
        "# We would like to know how much of the data is represented by the 'k' most frequent words\n",
        "print('Vocabulary size: %i' % len(vocab))\n",
        "print('Part of the corpus by taking the \"x\" most frequent words ?')\n",
        "cum_frequency = np.cumsum(frequency) / np.sum(frequency) * 100\n",
        "\n",
        "plt.figure(figsize=(20,5))\n",
        "plt.title('Cumulative frequency versus rank')\n",
        "plt.plot(rank, cum_frequency)\n",
        "plt.yscale('log')\n",
        "plt.xscale('log')\n",
        "plt.show()\n",
        "\n",
        "print('Part of the corpus by taking the 1000 most frequent words: %2.3f %%' % cum_frequency[999])\n",
        "print('Part of the corpus by taking the 10000 most frequent words: %2.3f %%' % cum_frequency[9999])\n",
        "print('Part of the corpus by taking the 5000 most frequent words: %2.3f %%' % cum_frequency[4999])"
      ]
    },
    {
      "cell_type": "markdown",
      "metadata": {
        "id": "deGq3dOktdkv"
      },
      "source": [
        "### With pre-processing tools from NLTK\n",
        "\n",
        "We are now going to pre-process our textual data. **Note that this still will only be useful if we do not have a lot of training data to begin with !**"
      ]
    },
    {
      "cell_type": "markdown",
      "metadata": {
        "id": "nvc743hFtdkv"
      },
      "source": [
        "#### Stemming\n",
        "\n",
        "Allows to go back to the root of a word: you can group different words around the same root, which facilitates generalization. Use:\n",
        "```from nltk import SnowballStemmer```"
      ]
    },
    {
      "cell_type": "code",
      "execution_count": 62,
      "metadata": {
        "id": "AwhrpRqGtdk0"
      },
      "outputs": [],
      "source": [
        "from nltk import SnowballStemmer\n",
        "stemmer = SnowballStemmer(\"english\")"
      ]
    },
    {
      "cell_type": "markdown",
      "metadata": {
        "id": "z1STzXwxtdk1"
      },
      "source": [
        "**Example:**"
      ]
    },
    {
      "cell_type": "code",
      "execution_count": 63,
      "metadata": {
        "id": "5CXRDqFPtdk1",
        "colab": {
          "base_uri": "https://localhost:8080/"
        },
        "outputId": "7b527764-3c4b-450c-b5b8-5b46f8a5f5fc"
      },
      "outputs": [
        {
          "output_type": "stream",
          "name": "stdout",
          "text": [
            "word : singers ; stemmed : singer\n",
            "word : cat ; stemmed : cat\n",
            "word : generalization ; stemmed : general\n",
            "word : philosophy ; stemmed : philosophi\n",
            "word : psychology ; stemmed : psycholog\n",
            "word : philosopher ; stemmed : philosoph\n"
          ]
        }
      ],
      "source": [
        "words = ['singers', 'cat', 'generalization', 'philosophy', 'psychology', 'philosopher']\n",
        "for word in words:\n",
        "    print('word : %s ; stemmed : %s' %(word, stemmer.stem(word)))"
      ]
    },
    {
      "cell_type": "markdown",
      "metadata": {
        "id": "0EYVe3Qftdk2"
      },
      "source": [
        "**Data transformation:**\n",
        "\n",
        "<div class='alert alert-block alert-info'>\n",
        "            Code:</div>"
      ]
    },
    {
      "cell_type": "code",
      "execution_count": 64,
      "metadata": {
        "id": "3-KyfFmZtdk2"
      },
      "outputs": [],
      "source": [
        "def stem(texts):\n",
        "    texts_stem = []\n",
        "    for text in texts:\n",
        "\n",
        "        text_stem = [stemmer.stem(word) for word in word_tokenize(text.lower())]\n",
        "        texts_stem.append(' '.join(text_stem))\n",
        "\n",
        "    return texts_stem"
      ]
    },
    {
      "cell_type": "markdown",
      "metadata": {
        "id": "TQxQgmMptdk3"
      },
      "source": [
        "#### Part of speech tags\n",
        "\n",
        "To generalize, we can also use the Part of Speech (POS) of the words, which will allow us to filter out information that is potentially not useful to the model. We will retrieve the POS of the words using the functions:\n",
        "```pos_tag```"
      ]
    },
    {
      "cell_type": "code",
      "execution_count": 65,
      "metadata": {
        "id": "WY50F5Xhtdk3"
      },
      "outputs": [],
      "source": [
        "import nltk\n",
        "from nltk import pos_tag, word_tokenize"
      ]
    },
    {
      "cell_type": "markdown",
      "metadata": {
        "id": "WOu-A_Yktdk4"
      },
      "source": [
        "**Example:**"
      ]
    },
    {
      "cell_type": "code",
      "execution_count": 66,
      "metadata": {
        "id": "5XQmCTGvtdk4",
        "colab": {
          "base_uri": "https://localhost:8080/"
        },
        "outputId": "d84e1297-4ddf-4c85-994d-4adadad93001"
      },
      "outputs": [
        {
          "output_type": "stream",
          "name": "stderr",
          "text": [
            "[nltk_data] Downloading package punkt to /root/nltk_data...\n",
            "[nltk_data]   Package punkt is already up-to-date!\n",
            "[nltk_data] Downloading package averaged_perceptron_tagger to\n",
            "[nltk_data]     /root/nltk_data...\n",
            "[nltk_data]   Unzipping taggers/averaged_perceptron_tagger.zip.\n"
          ]
        },
        {
          "output_type": "execute_result",
          "data": {
            "text/plain": [
              "[('I', 'PRP'), ('am', 'VBP'), ('Sam', 'NNP')]"
            ]
          },
          "metadata": {},
          "execution_count": 66
        }
      ],
      "source": [
        "import nltk\n",
        "nltk.download('punkt')\n",
        "nltk.download('averaged_perceptron_tagger')\n",
        "\n",
        "pos_tag(word_tokenize(('I am Sam')))"
      ]
    },
    {
      "cell_type": "markdown",
      "metadata": {
        "id": "VKA2pxuqtdk5"
      },
      "source": [
        "**Data transformation:** only keep nouns, verbs, adverbs, and adjectives (```['NN', 'VB', 'ADJ', 'RB']```) for our model.\n",
        "\n",
        "<div class='alert alert-block alert-info'>\n",
        "            Code:</div>"
      ]
    },
    {
      "cell_type": "code",
      "execution_count": 67,
      "metadata": {
        "id": "hd8D3S71tdk5"
      },
      "outputs": [],
      "source": [
        "def pos_tag_filter(X, good_tags=['NN', 'VB', 'ADJ', 'RB']):\n",
        "    X_pos = []\n",
        "    for text in X:\n",
        "        pos_tags = pos_tag(word_tokenize(text))\n",
        "        text_pos = [word for word, tag in pos_tags if tag in good_tags]\n",
        "        X_pos.append(' '.join(text_pos))\n",
        "\n",
        "    return X_pos"
      ]
    },
    {
      "cell_type": "markdown",
      "metadata": {
        "id": "zBVYlsRDtdk6"
      },
      "source": [
        "### Application\n",
        "\n",
        "<div class='alert alert-block alert-warning'>\n",
        "            Questions:</div>\n",
        "\n",
        "Re-draw the Zipf distribution of our data **after reducing their vocabulary with these functions**. How is it affected ? How do you think it could affect results here ?         \n",
        "        \n",
        "<div class='alert alert-block alert-info'>\n",
        "            Code:</div>        "
      ]
    },
    {
      "cell_type": "markdown",
      "source": [
        "After reducing the vocabulary we noitice that Zipf distribution of data is not the same as before. This is because alot of communly used words was removed thus only the meaningful words remained. As consequence I think that this can improve the results since we are taking into account what matters more"
      ],
      "metadata": {
        "id": "BxFZxIDMbpua"
      }
    },
    {
      "cell_type": "code",
      "execution_count": 79,
      "metadata": {
        "id": "NuHGcolWtdk6",
        "colab": {
          "base_uri": "https://localhost:8080/",
          "height": 492
        },
        "outputId": "84622c50-ba73-48a3-d07b-7a32f1aeb89f"
      },
      "outputs": [
        {
          "output_type": "display_data",
          "data": {
            "text/plain": [
              "<Figure size 2000x500 with 1 Axes>"
            ],
            "image/png": "[encoded data removed]"
          },
          "metadata": {}
        }
      ],
      "source": [
        "#Apply pos_tag_filter\n",
        "train_texts_pos = pos_tag_filter(train_texts_splt)\n",
        "\n",
        "\n",
        "#Preprocess texts using stemming\n",
        "train_texts_stem = stem(train_texts_pos)\n",
        "\n",
        "#Tokenize the preprocessed texts\n",
        "vocab_stem, word_counts_stem = vocabulary(train_texts_stem,5,0)\n",
        "\n",
        "\n",
        "\n",
        "#Plot the Zipf distribution\n",
        "frequencies_stem = np.array(list(word_counts_stem.values())) / np.sum(list(word_counts_stem.values()))\n",
        "rank_stem = np.array(list(vocab_stem.values()))\n",
        "\n",
        "plt.figure(figsize=(20,5))\n",
        "plt.title('Zipf distribution after stemming and POS filtering')\n",
        "plt.scatter(rank_stem, frequencies_stem, s=1)\n",
        "plt.yscale('log')\n",
        "plt.xscale('log')\n",
        "plt.xlabel('Rank')\n",
        "plt.ylabel('Frequency')\n",
        "plt.show()"
      ]
    },
    {
      "cell_type": "code",
      "source": [
        "# We would like to know how much of the data is represented by the 'k' most frequent words\n",
        "cum_frequency_stem = np.cumsum(frequencies_stem) / np.sum(frequencies_stem) * 100\n",
        "\n",
        "plt.figure(figsize=(20,5))\n",
        "plt.title('Cumulative frequency versus rank')\n",
        "plt.plot(rank_stem, cum_frequency_stem)\n",
        "plt.yscale('log')\n",
        "plt.xscale('log')\n",
        "plt.show()"
      ],
      "metadata": {
        "id": "MeiIpaOZtkk-",
        "colab": {
          "base_uri": "https://localhost:8080/",
          "height": 472
        },
        "outputId": "14f16f25-f87b-4496-e7db-a887611b6c35"
      },
      "execution_count": 81,
      "outputs": [
        {
          "output_type": "display_data",
          "data": {
            "text/plain": [
              "<Figure size 2000x500 with 1 Axes>"
            ],
            "image/png": "[encoded data removed]"
          },
          "metadata": {}
        }
      ]
    },
    {
      "cell_type": "markdown",
      "source": [
        "By observing the cumulative frequence curve, we obtain a curve that is more linear than the pervious ones. This can be noitced in high ranks where if we incerease the ranks we get an incearse in cumulative frequency that is relativily constant because thanks to stemming and filtring there is less rare words that have the same root (languagly speaking) in the vocabulary. This words are aggregarate into one representitave thanks to stemming for example :\n",
        "\n",
        "(stop stopped stopping stopp stoping )-> stop\n",
        "\n",
        "Here we have five \"different\" strings that represent the same meaning. Thanks to stemming all of these forms will be converted into a single format that we can use."
      ],
      "metadata": {
        "id": "8svLxzbcj3er"
      }
    },
    {
      "cell_type": "code",
      "source": [
        "pipeline_grid_stem = Pipeline([\n",
        "    ('vect', CountVectorizer()),\n",
        "    ('tfid', TfidfTransformer()),\n",
        "    ('clf', MultinomialNB()),\n",
        "])\n",
        "param_grid_stem = {\n",
        "    'vect__max_df': [0.5, 0.75,0.85, 1.0],\n",
        "    'vect__min_df': [1, 2, 5],\n",
        "    'vect__analyzer': ['word', 'char'],\n",
        "    'vect__ngram_range': [(1, 1),(1,2)],\n",
        "    'vect__max_features' : [30000],\n",
        "    'vect__stop_words' :  [None]\n",
        "}"
      ],
      "metadata": {
        "id": "yDZxNkvLnxx3"
      },
      "execution_count": 87,
      "outputs": []
    },
    {
      "cell_type": "code",
      "source": [
        "grid_search_stem = GridSearchCV(pipeline_grid_stem, param_grid_stem, scoring=\"f1\", n_jobs=-1, cv=5) # We use cross validation"
      ],
      "metadata": {
        "id": "n0J3XT10oOwB"
      },
      "execution_count": 88,
      "outputs": []
    },
    {
      "cell_type": "code",
      "source": [
        "grid_search_stem.fit(train_texts_stem, train_labels_splt)"
      ],
      "metadata": {
        "colab": {
          "base_uri": "https://localhost:8080/",
          "height": 189
        },
        "id": "SqMW_krfoV1u",
        "outputId": "68b66ec5-bc7e-4658-81a6-4cb9b1720aeb"
      },
      "execution_count": 89,
      "outputs": [
        {
          "output_type": "execute_result",
          "data": {
            "text/plain": [
              "GridSearchCV(cv=5,\n",
              "             estimator=Pipeline(steps=[('vect', CountVectorizer()),\n",
              "                                       ('tfid', TfidfTransformer()),\n",
              "                                       ('clf', MultinomialNB())]),\n",
              "             n_jobs=-1,\n",
              "             param_grid={'vect__analyzer': ['word', 'char'],\n",
              "                         'vect__max_df': [0.5, 0.75, 0.85, 1.0],\n",
              "                         'vect__max_features': [30000],\n",
              "                         'vect__min_df': [1, 2, 5],\n",
              "                         'vect__ngram_range': [(1, 1), (1, 2)],\n",
              "                         'vect__stop_words': [None]},\n",
              "             scoring='f1')"
            ],
            "text/html": [
              "<style>#sk-container-id-2 {color: black;background-color: white;}#sk-container-id-2 pre{padding: 0;}#sk-container-id-2 div.sk-toggleable {background-color: white;}#sk-container-id-2 label.sk-toggleable__label {cursor: pointer;display: block;width: 100%;margin-bottom: 0;padding: 0.3em;box-sizing: border-box;text-align: center;}#sk-container-id-2 label.sk-toggleable__label-arrow:before {content: \"▸\";float: left;margin-right: 0.25em;color: #696969;}#sk-container-id-2 label.sk-toggleable__label-arrow:hover:before {color: black;}#sk-container-id-2 div.sk-estimator:hover label.sk-toggleable__label-arrow:before {color: black;}#sk-container-id-2 div.sk-toggleable__content {max-height: 0;max-width: 0;overflow: hidden;text-align: left;background-color: #f0f8ff;}#sk-container-id-2 div.sk-toggleable__content pre {margin: 0.2em;color: black;border-radius: 0.25em;background-color: #f0f8ff;}#sk-container-id-2 input.sk-toggleable__control:checked~div.sk-toggleable__content {max-height: 200px;max-width: 100%;overflow: auto;}#sk-container-id-2 input.sk-toggleable__control:checked~label.sk-toggleable__label-arrow:before {content: \"▾\";}#sk-container-id-2 div.sk-estimator input.sk-toggleable__control:checked~label.sk-toggleable__label {background-color: #d4ebff;}#sk-container-id-2 div.sk-label input.sk-toggleable__control:checked~label.sk-toggleable__label {background-color: #d4ebff;}#sk-container-id-2 input.sk-hidden--visually {border: 0;clip: rect(1px 1px 1px 1px);clip: rect(1px, 1px, 1px, 1px);height: 1px;margin: -1px;overflow: hidden;padding: 0;position: absolute;width: 1px;}#sk-container-id-2 div.sk-estimator {font-family: monospace;background-color: #f0f8ff;border: 1px dotted black;border-radius: 0.25em;box-sizing: border-box;margin-bottom: 0.5em;}#sk-container-id-2 div.sk-estimator:hover {background-color: #d4ebff;}#sk-container-id-2 div.sk-parallel-item::after {content: \"\";width: 100%;border-bottom: 1px solid gray;flex-grow: 1;}#sk-container-id-2 div.sk-label:hover label.sk-toggleable__label {background-color: #d4ebff;}#sk-container-id-2 div.sk-serial::before {content: \"\";position: absolute;border-left: 1px solid gray;box-sizing: border-box;top: 0;bottom: 0;left: 50%;z-index: 0;}#sk-container-id-2 div.sk-serial {display: flex;flex-direction: column;align-items: center;background-color: white;padding-right: 0.2em;padding-left: 0.2em;position: relative;}#sk-container-id-2 div.sk-item {position: relative;z-index: 1;}#sk-container-id-2 div.sk-parallel {display: flex;align-items: stretch;justify-content: center;background-color: white;position: relative;}#sk-container-id-2 div.sk-item::before, #sk-container-id-2 div.sk-parallel-item::before {content: \"\";position: absolute;border-left: 1px solid gray;box-sizing: border-box;top: 0;bottom: 0;left: 50%;z-index: -1;}#sk-container-id-2 div.sk-parallel-item {display: flex;flex-direction: column;z-index: 1;position: relative;background-color: white;}#sk-container-id-2 div.sk-parallel-item:first-child::after {align-self: flex-end;width: 50%;}#sk-container-id-2 div.sk-parallel-item:last-child::after {align-self: flex-start;width: 50%;}#sk-container-id-2 div.sk-parallel-item:only-child::after {width: 0;}#sk-container-id-2 div.sk-dashed-wrapped {border: 1px dashed gray;margin: 0 0.4em 0.5em 0.4em;box-sizing: border-box;padding-bottom: 0.4em;background-color: white;}#sk-container-id-2 div.sk-label label {font-family: monospace;font-weight: bold;display: inline-block;line-height: 1.2em;}#sk-container-id-2 div.sk-label-container {text-align: center;}#sk-container-id-2 div.sk-container {/* jupyter's `normalize.less` sets `[hidden] { display: none; }` but bootstrap.min.css set `[hidden] { display: none !important; }` so we also need the `!important` here to be able to override the default hidden behavior on the sphinx rendered scikit-learn.org. See: https://github.com/scikit-learn/scikit-learn/issues/21755 */display: inline-block !important;position: relative;}#sk-container-id-2 div.sk-text-repr-fallback {display: none;}</style><div id=\"sk-container-id-2\" class=\"sk-top-container\"><div class=\"sk-text-repr-fallback\"><pre>GridSearchCV(cv=5,\n",
              "             estimator=Pipeline(steps=[(&#x27;vect&#x27;, CountVectorizer()),\n",
              "                                       (&#x27;tfid&#x27;, TfidfTransformer()),\n",
              "                                       (&#x27;clf&#x27;, MultinomialNB())]),\n",
              "             n_jobs=-1,\n",
              "             param_grid={&#x27;vect__analyzer&#x27;: [&#x27;word&#x27;, &#x27;char&#x27;],\n",
              "                         &#x27;vect__max_df&#x27;: [0.5, 0.75, 0.85, 1.0],\n",
              "                         &#x27;vect__max_features&#x27;: [30000],\n",
              "                         &#x27;vect__min_df&#x27;: [1, 2, 5],\n",
              "                         &#x27;vect__ngram_range&#x27;: [(1, 1), (1, 2)],\n",
              "                         &#x27;vect__stop_words&#x27;: [None]},\n",
              "             scoring=&#x27;f1&#x27;)</pre><b>In a Jupyter environment, please rerun this cell to show the HTML representation or trust the notebook. <br />On GitHub, the HTML representation is unable to render, please try loading this page with nbviewer.org.</b></div><div class=\"sk-container\" hidden><div class=\"sk-item sk-dashed-wrapped\"><div class=\"sk-label-container\"><div class=\"sk-label sk-toggleable\"><input class=\"sk-toggleable__control sk-hidden--visually\" id=\"sk-estimator-id-5\" type=\"checkbox\" ><label for=\"sk-estimator-id-5\" class=\"sk-toggleable__label sk-toggleable__label-arrow\">GridSearchCV</label><div class=\"sk-toggleable__content\"><pre>GridSearchCV(cv=5,\n",
              "             estimator=Pipeline(steps=[(&#x27;vect&#x27;, CountVectorizer()),\n",
              "                                       (&#x27;tfid&#x27;, TfidfTransformer()),\n",
              "                                       (&#x27;clf&#x27;, MultinomialNB())]),\n",
              "             n_jobs=-1,\n",
              "             param_grid={&#x27;vect__analyzer&#x27;: [&#x27;word&#x27;, &#x27;char&#x27;],\n",
              "                         &#x27;vect__max_df&#x27;: [0.5, 0.75, 0.85, 1.0],\n",
              "                         &#x27;vect__max_features&#x27;: [30000],\n",
              "                         &#x27;vect__min_df&#x27;: [1, 2, 5],\n",
              "                         &#x27;vect__ngram_range&#x27;: [(1, 1), (1, 2)],\n",
              "                         &#x27;vect__stop_words&#x27;: [None]},\n",
              "             scoring=&#x27;f1&#x27;)</pre></div></div></div><div class=\"sk-parallel\"><div class=\"sk-parallel-item\"><div class=\"sk-item\"><div class=\"sk-label-container\"><div class=\"sk-label sk-toggleable\"><input class=\"sk-toggleable__control sk-hidden--visually\" id=\"sk-estimator-id-6\" type=\"checkbox\" ><label for=\"sk-estimator-id-6\" class=\"sk-toggleable__label sk-toggleable__label-arrow\">estimator: Pipeline</label><div class=\"sk-toggleable__content\"><pre>Pipeline(steps=[(&#x27;vect&#x27;, CountVectorizer()), (&#x27;tfid&#x27;, TfidfTransformer()),\n",
              "                (&#x27;clf&#x27;, MultinomialNB())])</pre></div></div></div><div class=\"sk-serial\"><div class=\"sk-item\"><div class=\"sk-serial\"><div class=\"sk-item\"><div class=\"sk-estimator sk-toggleable\"><input class=\"sk-toggleable__control sk-hidden--visually\" id=\"sk-estimator-id-7\" type=\"checkbox\" ><label for=\"sk-estimator-id-7\" class=\"sk-toggleable__label sk-toggleable__label-arrow\">CountVectorizer</label><div class=\"sk-toggleable__content\"><pre>CountVectorizer()</pre></div></div></div><div class=\"sk-item\"><div class=\"sk-estimator sk-toggleable\"><input class=\"sk-toggleable__control sk-hidden--visually\" id=\"sk-estimator-id-8\" type=\"checkbox\" ><label for=\"sk-estimator-id-8\" class=\"sk-toggleable__label sk-toggleable__label-arrow\">TfidfTransformer</label><div class=\"sk-toggleable__content\"><pre>TfidfTransformer()</pre></div></div></div><div class=\"sk-item\"><div class=\"sk-estimator sk-toggleable\"><input class=\"sk-toggleable__control sk-hidden--visually\" id=\"sk-estimator-id-9\" type=\"checkbox\" ><label for=\"sk-estimator-id-9\" class=\"sk-toggleable__label sk-toggleable__label-arrow\">MultinomialNB</label><div class=\"sk-toggleable__content\"><pre>MultinomialNB()</pre></div></div></div></div></div></div></div></div></div></div></div></div>"
            ]
          },
          "metadata": {},
          "execution_count": 89
        }
      ]
    },
    {
      "cell_type": "code",
      "source": [
        "print(\"Best score: {:.4f}\".format(grid_search_stem.best_score_))"
      ],
      "metadata": {
        "colab": {
          "base_uri": "https://localhost:8080/"
        },
        "id": "AIaPUnRvovun",
        "outputId": "335f88cf-6381-42fc-9511-6dd64197e47b"
      },
      "execution_count": 90,
      "outputs": [
        {
          "output_type": "stream",
          "name": "stdout",
          "text": [
            "Best score: 0.7676\n"
          ]
        }
      ]
    },
    {
      "cell_type": "code",
      "source": [
        "grid_search_stem.best_params_"
      ],
      "metadata": {
        "colab": {
          "base_uri": "https://localhost:8080/"
        },
        "id": "H7AUhfaMom3f",
        "outputId": "92946505-a60d-46da-d95e-57d4ae272c8f"
      },
      "execution_count": 91,
      "outputs": [
        {
          "output_type": "execute_result",
          "data": {
            "text/plain": [
              "{'vect__analyzer': 'word',\n",
              " 'vect__max_df': 0.75,\n",
              " 'vect__max_features': 30000,\n",
              " 'vect__min_df': 2,\n",
              " 'vect__ngram_range': (1, 2),\n",
              " 'vect__stop_words': None}"
            ]
          },
          "metadata": {},
          "execution_count": 91
        }
      ]
    },
    {
      "cell_type": "code",
      "source": [
        "\n",
        "best_model_variance = grid_search_stem.cv_results_['std_test_score'][grid_search_stem.best_index_]\n",
        "best_model_variance"
      ],
      "metadata": {
        "id": "TKPhvIifo-t3"
      },
      "execution_count": null,
      "outputs": []
    },
    {
      "cell_type": "code",
      "source": [
        "print(len(vocab_stem))"
      ],
      "metadata": {
        "colab": {
          "base_uri": "https://localhost:8080/"
        },
        "id": "3PY_FdNapNIE",
        "outputId": "07bac372-d22a-497e-a289-07a8f9829fe2"
      },
      "execution_count": 92,
      "outputs": [
        {
          "output_type": "stream",
          "name": "stdout",
          "text": [
            "2539\n"
          ]
        }
      ]
    },
    {
      "cell_type": "code",
      "source": [
        "#Apply pos_tag_filter\n",
        "val_text_pos = pos_tag_filter(val_texts)\n",
        "#Preprocess texts using stemming\n",
        "val_text_stem = stem(val_text_pos)"
      ],
      "metadata": {
        "id": "GZbLznKomo47"
      },
      "execution_count": 82,
      "outputs": []
    },
    {
      "cell_type": "code",
      "source": [
        "best_params = {key[6:]: param for key, param in zip(grid_search_stem.best_params_.keys(), grid_search_stem.best_params_.values())}\n",
        "pipeline_base = Pipeline([\n",
        "    ('vect', CountVectorizer(**best_params)),\n",
        "    ('tfid', TfidfTransformer()),\n",
        "    ('clf', MultinomialNB())\n",
        "])\n",
        "pipeline_base.fit(train_texts_stem, train_labels_splt)\n",
        "val_pred_stem = pipeline_base.predict(val_text_stem)\n",
        "get_results(val_labels, val_pred_stem)"
      ],
      "metadata": {
        "colab": {
          "base_uri": "https://localhost:8080/",
          "height": 605
        },
        "id": "uEDQFGZgiOGi",
        "outputId": "418b3831-27ae-4c67-a348-b5a3c478c1b2"
      },
      "execution_count": 96,
      "outputs": [
        {
          "output_type": "stream",
          "name": "stdout",
          "text": [
            "              precision    recall  f1-score   support\n",
            "\n",
            "           0       0.73      0.77      0.75       250\n",
            "           1       0.76      0.71      0.73       250\n",
            "\n",
            "    accuracy                           0.74       500\n",
            "   macro avg       0.74      0.74      0.74       500\n",
            "weighted avg       0.74      0.74      0.74       500\n",
            "\n"
          ]
        },
        {
          "output_type": "display_data",
          "data": {
            "text/plain": [
              "<Figure size 640x480 with 2 Axes>"
            ],
            "image/png": "[encoded data removed]"
          },
          "metadata": {}
        }
      ]
    },
    {
      "cell_type": "markdown",
      "source": [
        "**Conclusion**\n",
        "\n",
        "This model enhanced with stemming and post_filtring as preprocessing is less performant in terms of f1-score. However, we gained in terms of data representation (our vocabulary is now limited to 2539 words which is a more compact and less memory consuming representation.\n",
        "\n",
        "This is due to that fact that by using less features, we are less information that the first case. Furthermore, like we have seen in the cumulative frequency curve after stemming and POS filtering, we lost access to more wrods that could have been deterimental in classifing the documents. On the other hand, we have gained in terms of memory and computation since we are dealing with much lower porblem dimensionality"
      ],
      "metadata": {
        "id": "FjJhLv-gqh63"
      }
    },
    {
      "cell_type": "code",
      "source": [],
      "metadata": {
        "id": "YNRgcoVYsgm9"
      },
      "execution_count": null,
      "outputs": []
    }
  ],
  "metadata": {
    "anaconda-cloud": {},
    "kernelspec": {
      "display_name": "Python 3 (ipykernel)",
      "language": "python",
      "name": "python3"
    },
    "language_info": {
      "codemirror_mode": {
        "name": "ipython",
        "version": 3
      },
      "file_extension": ".py",
      "mimetype": "text/x-python",
      "name": "python",
      "nbconvert_exporter": "python",
      "pygments_lexer": "ipython3",
      "version": "3.7.10"
    },
    "colab": {
      "provenance": [],
      "collapsed_sections": [
        "Dbicd55gtdj_",
        "szwStaF1tdkB",
        "Il2FJuxotdkI"
      ]
    }
  },
  "nbformat": 4,
  "nbformat_minor": 0
}